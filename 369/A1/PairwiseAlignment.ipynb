{
 "cells": [
  {
   "cell_type": "markdown",
   "metadata": {},
   "source": [
    "# CS 369 2019 \n",
    "\n",
    "\n",
    "Student: Stu Dent\n",
    "\n",
    "UPI: upi001\n",
    "\n",
    "\n",
    "## Assignment 1 : Pairwise Sequence Alignment (13 points)\n",
    "\n",
    "Due date: Tue 26/3/2019 at 23:59\n",
    "\n",
    " "
   ]
  },
  {
   "cell_type": "markdown",
   "metadata": {},
   "source": [
    "### Instruction\n",
    "\n",
    "Please update your name and UPI above.  \n",
    "\n",
    "This notebook contains automarking metadata, please __do not change the file name__.  \n",
    "In addition, you must use version 3 or greater of the IPython/Jupyter notebook for automarking to work properly. If you are not using version 3+, it is possible to accidentally delete cells that contain important metadata for automarking. To ensure that you have a recent enough version of the notebook, you can run the cell below to check:"
   ]
  },
  {
   "cell_type": "code",
   "execution_count": 1,
   "metadata": {},
   "outputs": [
    {
     "name": "stdout",
     "output_type": "stream",
     "text": [
      "7\n"
     ]
    }
   ],
   "source": [
    "import IPython\n",
    "your_version = IPython.version_info[0]\n",
    "print(your_version)\n",
    "assert your_version >= 3, \"Your version of IPython is too old, please update it.\""
   ]
  },
  {
   "cell_type": "markdown",
   "metadata": {},
   "source": [
    "__Note:__ Some code has been given in order to define the input and output.\n",
    "Your code should be implemented between two comments \"# your code here\" and \"# your code finished above\" ie. your code should replace the line \"raise NotImplementedError\". Please make sure that you do not miss any blocks, except for the example below:\n",
    "\n",
    "```\n",
    "    # your code here\n",
    "    raise NotImplementedError\n",
    "    # your code finished above\n",
    "```\n",
    "\n",
    "This assignment requires __Python 3__ and its package _numpy_ and _pandas_, so you need to make sure they are avaible from your Jupyter notebook."
   ]
  },
  {
   "cell_type": "code",
   "execution_count": 2,
   "metadata": {},
   "outputs": [
    {
     "name": "stdout",
     "output_type": "stream",
     "text": [
      "python 3.7.1\n",
      "numpy 1.15.4\n",
      "pandas 0.23.4\n"
     ]
    }
   ],
   "source": [
    "from platform import python_version\n",
    "print(\"python\", python_version())\n",
    "\n",
    "import numpy as np\n",
    "print(\"numpy\", np.version.version)\n",
    "\n",
    "import pandas \n",
    "print(\"pandas\", pandas.__version__)"
   ]
  },
  {
   "cell_type": "markdown",
   "metadata": {},
   "source": [
    "## Question 1\n",
    "\n",
    "Implement the Needleman–Wunsch algorithm for global sequence alignment. This implementation should be split into two parts: \n",
    "\n",
    "- creating F matrix\n",
    "- tracing back\n",
    "\n",
    "__Note:__ _numpy_ is imported as _np_. Make sure the nucleotide/amino acid gap symbol is using hyphen \"-\".\n",
    "\n",
    "\n",
    "### To do:\n",
    "- Complete *get_F_matrix()* \n",
    "- Complete *trace_back()* \n",
    "- Comment your code (1 point for each quenstion)\n",
    "\n",
    "\n",
    "### i. F matrix\n",
    "Complete the function *get_F_matrix()* below to produce the 2D $F$ matrix using _numpy_. The scoring system is determined by three parameters with default values: match=1.0, mismatch=-1.0, gap=-2.0, where _match/mismatch_ is equivalent to the score matrix and _gap_ is the linear gap penalty.\n",
    "The sequence _A_ is always in the row header, and _B_ in column header.\n"
   ]
  },
  {
   "cell_type": "code",
   "execution_count": 284,
   "metadata": {
    "deletable": false,
    "nbgrader": {
     "checksum": "a135dfe8812d6ba76b8af750be5976b8",
     "grade": false,
     "grade_id": "scoring_matrix_global",
     "locked": false,
     "schema_version": 1.0,
     "solution": true
    }
   },
   "outputs": [],
   "source": [
    "import numpy as np\n",
    "\n",
    "\n",
    "\n",
    "# F matrix, sequence A in row, B in col\n",
    "def get_F_matrix(A, B, match=1.0, mismatch=-1.0, gap=-2.0):\n",
    "    # The dimension of the matrix\n",
    "    rown = len(A) + 1\n",
    "    coln = len(B) + 1\n",
    "    # init 2D F matrix, shape=(len(A)+1, len(B)+1)\n",
    "    F = np.zeros(shape=(rown, coln))\n",
    "    x = B\n",
    "    y = A\n",
    "    \n",
    "    for yAxis in range(len(y) + 1):    # initialize matrix with side and top values\n",
    "        for xAxis in range(len(x) + 1):\n",
    "            if yAxis == 0:\n",
    "                F[yAxis][xAxis] = xAxis * -1\n",
    "            if xAxis == 0:\n",
    "                F[yAxis][0] = yAxis * -1     \n",
    "\n",
    "    for yAxis in range(len(y)):\n",
    "        for xAxis in range(len(x)):\n",
    "            if x[xAxis] == y[yAxis]:\n",
    "                match_pos = F[yAxis + 1][xAxis+1]   # score for current matched position\n",
    "                above = F[yAxis][xAxis+1]   # scores below for above, left, and diagonal of match position\n",
    "                left = F[yAxis + 1][xAxis]\n",
    "                diag = F[yAxis][xAxis]\n",
    "                \n",
    "                scored_above = above + mismatch\n",
    "                scored_left = left + mismatch\n",
    "                scored_diag = diag + match\n",
    "                \n",
    "                match_pos += max(scored_above, scored_left, scored_diag)    # get the highest score of nearby entries\n",
    "                F[yAxis + 1][xAxis+1] = match_pos \n",
    "            elif x[xAxis] == \"-\" or y[yAxis] == \"-\":\n",
    "                gap_pos = F[yAxis + 1][xAxis+1]   # score for current matched position\n",
    "                above = F[yAxis][xAxis+1]   # scores below for above, left, and diagonal of match position\n",
    "                left = F[yAxis + 1][xAxis]\n",
    "                diag = F[yAxis][xAxis]\n",
    "                \n",
    "                scored_above = above + gap\n",
    "                scored_left = left + gap\n",
    "                scored_diag = diag + gap\n",
    "                \n",
    "                gap_pos += max(scored_above, scored_left, scored_diag)    # get the highest score of nearby entries\n",
    "                F[yAxis + 1][xAxis+1] = gap_pos \n",
    "            else:\n",
    "                mismatch_pos = F[yAxis + 1][xAxis+1]    # score of current mismatched position\n",
    "                above = F[yAxis][xAxis+1]   # scores below for above, left, and diagonal of match position\n",
    "                left = F[yAxis + 1][xAxis]\n",
    "                diag = F[yAxis][xAxis]\n",
    "                \n",
    "                scored_above = above + mismatch\n",
    "                scored_left = left + mismatch\n",
    "                scored_diag = diag + mismatch\n",
    "                \n",
    "                mismatch_pos += max(scored_above, scored_left, scored_diag) # get highest score of nearby entries\n",
    "                F[yAxis + 1][xAxis+1] = mismatch_pos\n",
    "                \n",
    "    \"\"\"\n",
    "    sequence A in row header, B in column header\n",
    "    return F\n",
    "    \"\"\"\n",
    "    \n",
    "    # your code here\n",
    "    #raise NotImplementedError\n",
    "    # your code finished above\n",
    "    \n",
    "    # the starting position is bottom right element in F matrix\n",
    "    return F"
   ]
  },
  {
   "cell_type": "code",
   "execution_count": 285,
   "metadata": {
    "deletable": false,
    "editable": false,
    "nbgrader": {
     "checksum": "e8aa0c8f063dc4d9ae0c16b211a4f214",
     "grade": true,
     "grade_id": "test_scoring_matrix_global",
     "locked": true,
     "points": 1.0,
     "schema_version": 1.0,
     "solution": false
    }
   },
   "outputs": [
    {
     "name": "stdout",
     "output_type": "stream",
     "text": [
      "[[ 0. -1. -2. -3. -4. -5. -6. -7.]\n",
      " [-1.  1.  0. -1. -2. -3. -4. -5.]\n",
      " [-2.  0.  0.  1.  0. -1. -2. -3.]\n",
      " [-3. -1. -1.  0.  2.  1.  0. -1.]\n",
      " [-4. -2. -2. -1.  1.  1.  0. -1.]\n",
      " [-5. -3. -3. -1.  0.  0.  0. -1.]\n",
      " [-6. -4. -2. -2. -1. -1.  1.  0.]\n",
      " [-7. -5. -3. -1. -2. -2.  0.  0.]]\n"
     ]
    }
   ],
   "source": [
    "\"\"\"Automarking 2 tests (1 hidden)\"\"\"\n",
    "    # https://en.wikipedia.org/wiki/Needleman–Wunsch_algorithm\n",
    "x = \"GATTACA\"\n",
    "y = \"GCATGCU\"\n",
    "mat = get_F_matrix(x,y,gap=-1)\n",
    "print(mat)\n",
    "\n",
    "assert np.array_equal(mat, \n",
    "                      np.reshape((0, -1, -2, -3, -4, -5, -6, -7,\n",
    "                                  -1,  1,  0, -1, -2, -3, -4, -5,\n",
    "                                  -2,  0,  0,  1,  0, -1, -2, -3,\n",
    "                                  -3, -1, -1,  0,  2,  1,  0, -1,\n",
    "                                  -4, -2, -2, -1,  1,  1,  0, -1,\n",
    "                                  -5, -3, -3, -1,  0,  0,  0, -1,\n",
    "                                  -6, -4, -2, -2, -1, -1,  1,  0,\n",
    "                                  -7, -5, -3, -1, -2, -2,  0,  0), (8, 8)) )"
   ]
  },
  {
   "cell_type": "markdown",
   "metadata": {},
   "source": [
    "### ii. Tracing back\n",
    "\n",
    "Complete the function *trace_back()* to form the alignment given a scoring matrix $F$ created by *get_F_matrix()*, and other required parameters. \n",
    "\n",
    "If two or more scores are the same, select the high road during traceback.\n",
    "For example, if there is the multiple choice to move either vertical or diagonal, then the high road approach will take the vertical move. If either diagonal or horizontal, then take diagonal. \n",
    "\n",
    "__Note:__ the high road approach is different to the pseudo-code in Wikipedia."
   ]
  },
  {
   "cell_type": "code",
   "execution_count": 286,
   "metadata": {
    "deletable": false,
    "nbgrader": {
     "checksum": "dc4a0119e7e1004dde036eb4e6b09234",
     "grade": true,
     "grade_id": "trace_back_global",
     "locked": false,
     "points": 1.0,
     "schema_version": 1.0,
     "solution": true
    }
   },
   "outputs": [],
   "source": [
    "# F matrix, A in row header, B in column header\n",
    "def trace_back(F, A, B, match=1.0, mismatch=-1.0, gap=-2.0):\n",
    "    # i indexing row, j indexing col in F\n",
    "    i, j = len(A), len(B)\n",
    "    if i == 0 or j == 0 or i >= np.shape(F)[0] or j >= np.shape(F)[1]:\n",
    "        raise ValueError('Invalid position [%s, %s] !' % (i, j))\n",
    "\n",
    "    # aligned sequence A\n",
    "    AlignmentA = \"\"\n",
    "    # aligned sequence B\n",
    "    AlignmentB = \"\"\n",
    "    \n",
    "    \n",
    " \n",
    "    i = len(A)\n",
    "    j = len(B)\n",
    "    while (i > 0 or j > 0):    # don't stop until [0,0] of matrix is reached\n",
    "        if A[i -1] == B[j -1]:\n",
    "            s = match\n",
    "        elif A[i-1] == \"-\" or B[j-1] == \"-\":    # gap penalty for alignment\n",
    "            s = gap\n",
    "        elif A[i-1] != B[j-1]:    # penatly for mismatch\n",
    "            s = mismatch\n",
    "        if i > 0 and F[i][j] == F[i-1][j] + gap:    # penalty for non-diagonal alignment\n",
    "            AlignmentA = A[i-1] + AlignmentA\n",
    "            AlignmentB = \"-\" + AlignmentB\n",
    "            i -= 1\n",
    "        elif i > 0 and j > 0 and F[i][j] == F[i-1][j-1] + s:    # score for diagonal alignment\n",
    "            AlignmentA = A[i-1] + AlignmentA\n",
    "            AlignmentB = B[j-1] + AlignmentB\n",
    "            i = i - 1\n",
    "            j = j - 1\n",
    "        \n",
    "        else:    # alignment string for gap\n",
    "            AlignmentA = \"-\" + AlignmentA\n",
    "            AlignmentB = B[j-1] + AlignmentB\n",
    "            j -= 1\n",
    "    \n",
    "        \n",
    "    \n",
    "    \"\"\"\n",
    "    trace back in F matrix following the possible moves by recalculating the score,\n",
    "    the starting position is bottom right element in F matrix.\n",
    "    \"\"\"\n",
    "    \n",
    "    # your code here\n",
    "    #raise NotImplementedError\n",
    "    # your code finished above\n",
    "    \n",
    "    # string type\n",
    "    return AlignmentA, AlignmentB"
   ]
  },
  {
   "cell_type": "code",
   "execution_count": 287,
   "metadata": {
    "deletable": false,
    "editable": false,
    "nbgrader": {
     "checksum": "957f15ffb65771ca5a889fc48d25da7e",
     "grade": true,
     "grade_id": "test_global_1",
     "locked": true,
     "points": 1.0,
     "schema_version": 1.0,
     "solution": false
    }
   },
   "outputs": [
    {
     "name": "stdout",
     "output_type": "stream",
     "text": [
      "y:  GCATG-CU \n",
      "x:  G-ATTACA\n"
     ]
    }
   ],
   "source": [
    "\"\"\"Automarking 2 tests (1 hidden)\"\"\"\n",
    "# https://en.wikipedia.org/wiki/Needleman–Wunsch_algorithm\n",
    "x = \"GATTACA\"\n",
    "y = \"GCATGCU\"\n",
    "mat = get_F_matrix(x,y,gap=-1)\n",
    "alignment = trace_back(mat, x, y, gap=-1)\n",
    "print(\"y: \", alignment[1], \"\\nx: \", alignment[0])\n",
    "\n",
    "assert alignment[1] == \"GCATG-CU\"\n",
    "assert alignment[0] == \"G-ATTACA\""
   ]
  },
  {
   "cell_type": "code",
   "execution_count": null,
   "metadata": {
    "deletable": false,
    "editable": false,
    "nbgrader": {
     "checksum": "03e327e49287425b30c385bdbffcbae6",
     "grade": true,
     "grade_id": "test_global_2",
     "locked": true,
     "points": 1.0,
     "schema_version": 1.0,
     "solution": false
    }
   },
   "outputs": [],
   "source": [
    "\"\"\"Automarking long sequence alignment\"\"\""
   ]
  },
  {
   "cell_type": "markdown",
   "metadata": {},
   "source": [
    "## Question 2\n",
    "\n",
    "Implement the Smith–Waterman algorithm for local sequence alignment. \n",
    "\n",
    "### To do:\n",
    "- Complete *local_alignment()* \n",
    "- Comment your code (1 point for each quenstion)\n",
    "\n",
    "Complete the function *local_alignment()* to produce a local sequence alignment. A score matix $S$ is required. Remember to always take the high road during traceback. If there are multiple maximum scores, then always take the maximum score in the lowest and then rightmost position in $F$.\n",
    "\n",
    "Please do not change the code to define score matrix S1 and S2"
   ]
  },
  {
   "cell_type": "code",
   "execution_count": 288,
   "metadata": {},
   "outputs": [
    {
     "name": "stdout",
     "output_type": "stream",
     "text": [
      "S1 = \n",
      "    A  G  C  T\n",
      "A  1 -1 -1 -1\n",
      "G -1  1 -1 -1\n",
      "C -1 -1  1 -1\n",
      "T -1 -1 -1  1\n",
      "\n",
      "S2 = \n",
      "    A  G  C  T\n",
      "A  2  1 -2 -2\n",
      "G  1  2 -2 -2\n",
      "C -2 -2  2  1\n",
      "T -2 -2  1  2\n"
     ]
    }
   ],
   "source": [
    "# define score matrix S1 and S2\n",
    "import pandas\n",
    "import numpy as np\n",
    "\n",
    "nuc = ['A', 'G', 'C', 'T'] # Purines, Pyramidines\n",
    "# match=1, mismatch=-1\n",
    "match_mismatch = np.reshape((1, -1, -1, -1, -1, 1, -1, -1, -1, -1, 1, -1, -1, -1, -1, 1), (4, 4))\n",
    "# score matrix:\n",
    "S1 = pandas.DataFrame(match_mismatch, index=nuc, columns=nuc)\n",
    "print(\"S1 = \\n\", S1)\n",
    "# 2 if a = b, 1 if a b is purine or a b is pyrimidine,\n",
    "# -2 if a is a purine and b is a pyrimidine or vice versa.\n",
    "pur_pyr = np.reshape((2, 1, -2, -2, 1, 2, -2, -2, -2, -2, 2, 1, -2, -2, 1, 2), (4, 4))\n",
    "S2 = pandas.DataFrame(pur_pyr, index=nuc, columns=nuc)\n",
    "print(\"\\nS2 = \\n\", S2)"
   ]
  },
  {
   "cell_type": "code",
   "execution_count": 289,
   "metadata": {
    "deletable": false,
    "nbgrader": {
     "checksum": "7bbf672268744bbdd599c5006dad5e0a",
     "grade": true,
     "grade_id": "local_alignment",
     "locked": false,
     "points": 1.0,
     "schema_version": 1.0,
     "solution": true
    }
   },
   "outputs": [],
   "source": [
    "# sequence A in row, B in col, S score matix, d linear gap penalty \n",
    "def local_alignment(A, B, S, d=-2.0):\n",
    "    # The dimension of the matrix\n",
    "    rown = len(A) + 1\n",
    "    coln = len(B) + 1\n",
    "\n",
    "    # init 2D F matrix, shape=(len(A)+1, len(B)+1)\n",
    "    F = np.zeros(shape=(rown, coln))\n",
    "\n",
    "    max_score = 0\n",
    "    # coordinate of the highest score in F matrix in a tuple, \n",
    "    # i.e. (row index, col index)\n",
    "    max_pos = None  \n",
    "\n",
    "    AlignmentA = \"\"\n",
    "    AlignmentB = \"\"\n",
    "    \n",
    "    x = B\n",
    "    y = A\n",
    "    max_score = 0\n",
    "    for yAxis in range(len(y)):\n",
    "        for xAxis in range(len(x)): \n",
    "            if x[xAxis] == \"-\" or y[yAxis] == \"-\":    # alignment with gap and penalty\n",
    "                above = F[yAxis][xAxis+1] + d\n",
    "                left = F[yAxis + 1][xAxis] + d\n",
    "                diag = F[yAxis][xAxis] + d\n",
    "                \n",
    "                local_max = max(above, left, diag, 0)\n",
    "                \n",
    "                F[yAxis+1][xAxis+1] = local_max\n",
    "                \n",
    "            else:    # alignment with mis/matched letter \n",
    "                xLetter = x[xAxis]\n",
    "                yLetter = y[yAxis]\n",
    "                score_at_s = S.at[yLetter, xLetter] \n",
    "\n",
    "                above = F[yAxis][xAxis+1] + d    # scores for surrounding matrix entries with associated score for mis/match and gaps\n",
    "                left = F[yAxis + 1][xAxis] + d\n",
    "                diag = F[yAxis][xAxis] + score_at_s\n",
    "\n",
    "                local_max = max(above, left, diag, 0)\n",
    "                \n",
    "                F[yAxis+1][xAxis+1] = local_max\n",
    "                if local_max >= max_score:\n",
    "                    max_score = local_max\n",
    "                    max_pos = [yAxis, xAxis]\n",
    "                    \n",
    "\n",
    "    i = max_pos[0]+1\n",
    "    j = max_pos[1]+1\n",
    "    while i > 0 or j > 0:    # run traceback until 0,0 is reached\n",
    "        if A[i-1] == B[j-1]:\n",
    "            k = S.at[A[i-1], B[j-1]]\n",
    "        elif A[i-1] == \"-\" or B[j-1] == \"-\":    # score if there's a gap in a sequence\n",
    "            k = d\n",
    "        elif A[i-1] != B[j-1]:    # score if there's sequences don't match\n",
    "            k = S.at[A[i-1], B[j-1]]\n",
    "        if i > 0 and F[i][j] == F[i-1][j] + d:\n",
    "            AlignmentA = A[i-1] + AlignmentA\n",
    "            AlignmentB = \"-\" + AlignmentB\n",
    "            i -= 1\n",
    "        elif i > 0 and j > 0 and F[i][j] == F[i-1][j-1] + k:\n",
    "            AlignmentA = A[i-1] + AlignmentA\n",
    "            AlignmentB = B[j-1] + AlignmentB\n",
    "            i = i - 1\n",
    "            j = j - 1\n",
    "        \n",
    "        else:\n",
    "            AlignmentA = \"-\" + AlignmentA\n",
    "            AlignmentB = B[j-1] + AlignmentB\n",
    "            j -= 1 \n",
    "        if F[i][j] == 0:    # break traceback when a zero is reached\n",
    "            break\n",
    "\n",
    "    \n",
    "\n",
    "    \"\"\"\n",
    "    Returns a local alignment between sequences A and B,\n",
    "    S is the score matrix, and d is the penalty.\n",
    "    F is the F matrix, where A is in row, B is in column.\n",
    "    max_pos is the coordinate of the highest score max_score in F matrix.\n",
    "    String AlignmentA and AlignmentB are the alignment. \n",
    "    \"\"\"\n",
    "    \n",
    "    # your code here\n",
    "    #raise NotImplementedError\n",
    "    # your code finished above\n",
    "    \n",
    "    # AlignmentA and AlignmentB are strings\n",
    "    return AlignmentA, AlignmentB, max_score, max_pos, F"
   ]
  },
  {
   "cell_type": "code",
   "execution_count": 290,
   "metadata": {
    "deletable": false,
    "editable": false,
    "nbgrader": {
     "checksum": "f37a58c2588172cc13b6b171fad26905",
     "grade": true,
     "grade_id": "test_local_1",
     "locked": true,
     "points": 1.0,
     "schema_version": 1.0,
     "solution": false
    }
   },
   "outputs": [
    {
     "name": "stdout",
     "output_type": "stream",
     "text": [
      "y:  GTT-AC \n",
      "x:  GTTGAC \n",
      " [[ 0.  0.  0.  0.  0.  0.  0.  0.  0.]\n",
      " [ 0.  0.  3.  1.  0.  0.  0.  3.  3.]\n",
      " [ 0.  0.  3.  1.  0.  0.  0.  3.  6.]\n",
      " [ 0.  3.  1.  6.  4.  2.  0.  1.  4.]\n",
      " [ 0.  3.  1.  4.  9.  7.  5.  3.  2.]\n",
      " [ 0.  1.  6.  4.  7.  6.  4.  8.  6.]\n",
      " [ 0.  0.  4.  3.  5. 10.  8.  6.  5.]\n",
      " [ 0.  0.  2.  1.  3.  8. 13. 11.  9.]\n",
      " [ 0.  3.  1.  5.  4.  6. 11. 10.  8.]\n",
      " [ 0.  1.  0.  3.  2.  7.  9.  8.  7.]] \n",
      "max score = 13.0 \n",
      "max score coordinate = [6, 5]\n"
     ]
    }
   ],
   "source": [
    "\"\"\"Automarking 2 tests (1 hidden)\"\"\"\n",
    "# https://en.wikipedia.org/wiki/Smith–Waterman_algorithm\n",
    "x = \"GGTTGACTA\"\n",
    "y = \"TGTTACGG\"\n",
    "AlignmentA, AlignmentB, max_score, max_pos, F = local_alignment(x, y, S1*3)\n",
    "print(\"y: \", AlignmentB, \"\\nx: \", AlignmentA, \"\\n\", F, \n",
    "      \"\\nmax score =\", max_score, \"\\nmax score coordinate =\", max_pos)\n",
    "\n",
    "assert AlignmentB == \"GTT-AC\"\n",
    "assert AlignmentA == \"GTTGAC\"\n",
    "assert max_score == 13.0"
   ]
  },
  {
   "cell_type": "code",
   "execution_count": null,
   "metadata": {
    "deletable": false,
    "editable": false,
    "nbgrader": {
     "checksum": "4f518a7a1502181acf8fbb90d7b071f7",
     "grade": true,
     "grade_id": "test_local_2",
     "locked": true,
     "points": 1.0,
     "schema_version": 1.0,
     "solution": false
    }
   },
   "outputs": [],
   "source": [
    "\"\"\"Automarking long sequence max score\"\"\""
   ]
  },
  {
   "cell_type": "code",
   "execution_count": null,
   "metadata": {
    "deletable": false,
    "editable": false,
    "nbgrader": {
     "checksum": "c8b264a21d7bcb8f968b344dd53678dc",
     "grade": true,
     "grade_id": "test_local_3",
     "locked": true,
     "points": 1.0,
     "schema_version": 1.0,
     "solution": false
    }
   },
   "outputs": [],
   "source": [
    "\"\"\"Automarking long sequence alignment\"\"\""
   ]
  },
  {
   "cell_type": "markdown",
   "metadata": {},
   "source": [
    "### Question 3\n",
    "\n",
    "Implement the overlap algorithm in the function *overlap()* (hint: by modifying the Needleman–Wunsch algorithm). \n",
    "\n",
    "__Tips:__\n",
    "\n",
    "1. In the overlap algorithm, $F(i,0)=F(0,j)=0$ for all $i$ and $j$. \n",
    "\n",
    "2. The traceback should start at the $F(i,m)$ or $F(n,j)$ cell with the highest value. \n",
    "\n",
    "3. The traceback should terminate when a $F(i,0)$ or $F(0,j)$ cell is reached. \n",
    "\n",
    "4. If there are same scores in the path, then always takes the high road during traceback.\n",
    "\n",
    "5. Finally, the remaining gaps and unmatched residues should be added to `AlignmentA` and `AlignmentB` at the end of the traceback, so this should come at the end of the code. Namely, the alignment should include the starting gaps and end gaps. An example of two simple sequences and their alignment is available in the test. \n",
    "\n",
    "\n",
    "### To do:\n",
    "- Complete *readBLOSUM62()*\n",
    "- Complete *overlap()* \n",
    "- Comment your code (1 point for each quenstion)"
   ]
  },
  {
   "cell_type": "code",
   "execution_count": 291,
   "metadata": {
    "deletable": false,
    "nbgrader": {
     "checksum": "b8efdd9960ae480fd9fa509aa75b5e1b",
     "grade": false,
     "grade_id": "BLOSUM62",
     "locked": false,
     "schema_version": 1.0,
     "solution": true
    }
   },
   "outputs": [
    {
     "name": "stdout",
     "output_type": "stream",
     "text": [
      "['4', '-1', '-2', '-2', '0', '-1', '-1', '0', '-2', '-1', '-1', '-1', '-1', '-2', '-1', '1', '0', '-3', '-2', '0', '-2', '-1', '0']\n"
     ]
    }
   ],
   "source": [
    "import numpy as np\n",
    "import pandas\n",
    "\n",
    "def readBLOSUM62():\n",
    "    # The first 20rows/columns are amino acids and the last 3 represent unknowns\n",
    "    amino_acids = [\"A\",\"R\",\"N\",\"D\",\"C\",\"Q\",\"E\",\"G\",\"H\",\"I\",\"L\",\"K\",\"M\",\"F\",\"P\",\"S\",\"T\",\"W\",\"Y\",\"V\",\"B\",\"Z\",\"X\"]\n",
    "    # it is available with the Jupyter notebook  \n",
    "    #text_file = open(\"blosum62.txt\", \"r\")\n",
    "    #print(text_file)\n",
    "    # your code here\n",
    "    #raise NotImplementedError\n",
    "    # your code finished above\n",
    "    \n",
    "    BLOSUM_df = pandas.read_csv('blosum62.txt', sep = '\\t', header = None)    # read in as a dataframe\n",
    "    BLOSUM_df = BLOSUM_df.drop(0)\n",
    "    BLOSUM_df = BLOSUM_df.drop(0,1)\n",
    "    \n",
    "    \n",
    "    \n",
    "    BLOSUM_df.columns = amino_acids    # add in amino acids to index df\n",
    "    BLOSUM_df.index = amino_acids\n",
    "    \n",
    "    # pandas.DataFrame\n",
    "    return BLOSUM_df\n",
    "\n",
    "BLOSUM62 = readBLOSUM62()\n",
    "print(list(BLOSUM62['A']))"
   ]
  },
  {
   "cell_type": "code",
   "execution_count": 268,
   "metadata": {
    "deletable": false,
    "editable": false,
    "nbgrader": {
     "checksum": "11805cd8e6bb5002276bdff35378b65e",
     "grade": true,
     "grade_id": "test_BLOSUM62",
     "locked": true,
     "points": 1.0,
     "schema_version": 1.0,
     "solution": false
    }
   },
   "outputs": [
    {
     "data": {
      "text/plain": [
       "'Automarking readBLOSUM62'"
      ]
     },
     "execution_count": 268,
     "metadata": {},
     "output_type": "execute_result"
    }
   ],
   "source": [
    "\"\"\"Automarking readBLOSUM62\"\"\""
   ]
  },
  {
   "cell_type": "code",
   "execution_count": 292,
   "metadata": {
    "deletable": false,
    "nbgrader": {
     "checksum": "96fd8e9ad785b26115e7b7eb973b80dc",
     "grade": true,
     "grade_id": "overlap",
     "locked": false,
     "points": 1.0,
     "schema_version": 1.0,
     "solution": true
    }
   },
   "outputs": [],
   "source": [
    "def overlap(A,B,S,d=-2.0):\n",
    "    # init 2D F matrix, shape=(len(A)+1, len(B)+1)\n",
    "\n",
    "    F = np.zeros((len(A)+1,len(B)+1))\n",
    "    \n",
    "    AlignmentA = \"\"\n",
    "    AlignmentB = \"\"\n",
    "\n",
    "    # the highest value at the F(i,m) or F(n,j) cell to start\n",
    "    score = 0 \n",
    "    \n",
    "    ''' \n",
    "    Returns a pairwise sequence alignment between sequences A and B,\n",
    "    score is the the highest value at the F(i,m) or F(n,j) cell to start.\n",
    "    S is the score matrix, and d is the penalty. \n",
    "    '''\n",
    "    \n",
    "    x = B\n",
    "    y = A\n",
    "    score = 0\n",
    "    starting_side = None\n",
    "    for yAxis1 in range(len(y)):\n",
    "        for xAxis1 in range(len(x)): \n",
    "            if x[xAxis1] == \"-\" or y[yAxis1] == \"-\":    # calculate score if there's a gap\n",
    "                above = F[yAxis1][xAxis1+1] + d\n",
    "                left = F[yAxis1 + 1][xAxis1] + d\n",
    "                diag = F[yAxis][xAxis] + d\n",
    "                \n",
    "                local_max = max(above, left, diag)\n",
    "                \n",
    "                F[yAxis1+1][xAxis1+1] = local_max\n",
    "                \n",
    "            else:    # calculate score for diagonal, left or above mis/match\n",
    "                xLetter = x[xAxis1]\n",
    "                yLetter = y[yAxis1]\n",
    "                score_s = S.at[yLetter, xLetter]\n",
    "                above = F[yAxis1][xAxis1+1] + d\n",
    "                left = F[yAxis1 + 1][xAxis1] + d\n",
    "                diag = F[yAxis1][xAxis1] + int(score_s)\n",
    "\n",
    "                local_max = max(above, left, diag)\n",
    "                \n",
    "                F[yAxis1+1][xAxis1+1] = local_max\n",
    "                \n",
    "                if (F[len(y)][xAxis1+1] > score) or (F[yAxis1+1][len(x)] > score):    # get max score on edges of matrix\n",
    "                    score = F[yAxis1+1][xAxis1+1]\n",
    "                    max_pos = [yAxis1+1,xAxis1+1]    # get max score position\n",
    "                    if max_pos[0] == len(x) +1 and max_pos[0] == len(y)+1:\n",
    "                        starting_side = \"bottom_corner\" \n",
    "                    elif max_pos[1] == len(x):\n",
    "                        starting_side = \"col\"\n",
    "                    elif max_pos[0] == len(y):\n",
    "                        starting_side = \"row\"\n",
    "                    \n",
    "                         \n",
    "    i = len(x)\n",
    "    j = len(y)\n",
    "    suffixA = \"\"\n",
    "    suffixB = \"\"\n",
    "    if starting_side == \"col\":    # prefix if the max entry was on side column\n",
    "        while j > max_pos[0]:\n",
    "            suffixA = suffixA + y[j-1]\n",
    "            suffixB = suffixB + \"-\"\n",
    "            j -=1\n",
    "                 \n",
    "    i = len(x)\n",
    "    j = len(y)\n",
    "    if starting_side == \"row\":    # prefix if the max entry was on the bottom row\n",
    "        while i > max_pos[1]:\n",
    "            suffixB = suffixB + x[i-1]\n",
    "            suffixA = suffixA + \"-\"\n",
    "            i -=1\n",
    "\n",
    "              \n",
    "    i = max_pos[0] \n",
    "    j = max_pos[1]\n",
    "    while i > 0 and j > 0:    # stop trace backwhen one of the matrix sides is reached\n",
    "        if A[i-1] == B[j-1]:\n",
    "            k = int(S.at[A[i-1], B[j-1]])\n",
    "        elif A[i-1] == \"-\" or B[j-1] == \"-\":    # score for gap in the sequence\n",
    "            k = d\n",
    "        elif A[i-1] != B[j-1]:\n",
    "            k = S.at[A[i-1], B[j-1]]\n",
    "        if i > 0 and F[i][j] == F[i-1][j] + d:\n",
    "            AlignmentA = A[i-1] + AlignmentA\n",
    "            AlignmentB = \"-\" + AlignmentB\n",
    "            i -= 1\n",
    "        elif i > 0 and j > 0 and F[i][j] == F[i-1][j-1] + int(k):    # score for diagonal alignment\n",
    "            AlignmentA = A[i-1] + AlignmentA\n",
    "            AlignmentB = B[j-1] + AlignmentB\n",
    "            i = i - 1\n",
    "            j = j - 1\n",
    "        else:\n",
    "            AlignmentA = \"-\" + AlignmentA\n",
    "            AlignmentB = B[j-1] + AlignmentB\n",
    "            j -= 1 \n",
    "            \n",
    "    if j > i:    # prefix if the middle seqeunce stops on top row\n",
    "        prefixB = B[:j]\n",
    "        prefixA = \"-\" * j\n",
    "    elif i > j:    # prefix if the middle sequence stops on the side column\n",
    "        prefixB = \"-\" * i\n",
    "        prefixA = A[:i]\n",
    "    else:    # prefix if middle sequence stops at 0,0\n",
    "        prefixB = \"\"\n",
    "        prefixA = \"\"\n",
    "        \n",
    "    \n",
    "    AlignmentA = prefixA + AlignmentA + suffixA\n",
    "    AlignmentB = prefixB + AlignmentB + suffixB\n",
    "    # your code here\n",
    "    #raise NotImplementedError\n",
    "    # your code finished above\n",
    "    \n",
    "    # AlignmentA or AlignmentB is string, score is a real number\n",
    "    return AlignmentA, AlignmentB, score, F"
   ]
  },
  {
   "cell_type": "code",
   "execution_count": 293,
   "metadata": {
    "deletable": false,
    "editable": false,
    "nbgrader": {
     "checksum": "672003058cffb7cd6991736ca6ff3f9d",
     "grade": true,
     "grade_id": "test_overlap_simple",
     "locked": true,
     "points": 1.0,
     "schema_version": 1.0,
     "solution": false
    }
   },
   "outputs": [
    {
     "name": "stdout",
     "output_type": "stream",
     "text": [
      "HEAGAWGHEE-\n",
      "---PAW-HEAE\n",
      "17.0\n",
      "[[ 0.  0.  0.  0.  0.  0.  0.  0.  0.  0.  0.]\n",
      " [ 0. -2. -1. -1. -2. -1. -4. -2. -2. -1. -1.]\n",
      " [ 0. -2. -3.  3. -1.  2. -4. -4. -4. -3. -2.]\n",
      " [ 0. -2. -5. -5.  1. -4. 13.  5. -3. -7. -6.]\n",
      " [ 0.  8.  0. -7. -7. -1.  5. 11. 13.  5. -3.]\n",
      " [ 0.  0. 13.  5. -3. -8. -3.  3. 11. 18. 10.]\n",
      " [ 0. -2.  5. 17.  9.  1. -7. -3.  3. 10. 17.]\n",
      " [ 0.  0.  3.  9. 15.  8.  0. -8. -3.  8. 15.]]\n"
     ]
    }
   ],
   "source": [
    "\"\"\"Automarking overlap alignment at a simple example\"\"\"\n",
    "x = 'PAWHEAE'\n",
    "y = 'HEAGAWGHEE'\n",
    "\n",
    "AlignmentA,AlignmentB,score,F = overlap(x, y, BLOSUM62, -8)\n",
    "print(AlignmentB)\n",
    "print(AlignmentA)\n",
    "print(score)\n",
    "print(F)\n",
    "\n",
    "assert AlignmentB == \"HEAGAWGHEE-\"\n",
    "assert AlignmentA == \"---PAW-HEAE\"\n",
    "assert score == 17.0"
   ]
  },
  {
   "cell_type": "code",
   "execution_count": 128,
   "metadata": {
    "deletable": false,
    "editable": false,
    "nbgrader": {
     "checksum": "240665538bd779b4b844468ba4694301",
     "grade": true,
     "grade_id": "test_overlap_score",
     "locked": true,
     "points": 1.0,
     "schema_version": 1.0,
     "solution": false
    }
   },
   "outputs": [
    {
     "data": {
      "text/plain": [
       "'Automarking overlap alignment score using BLOSUM62'"
      ]
     },
     "execution_count": 128,
     "metadata": {},
     "output_type": "execute_result"
    }
   ],
   "source": [
    "\"\"\"Automarking overlap alignment score using BLOSUM62\"\"\""
   ]
  },
  {
   "cell_type": "code",
   "execution_count": 6,
   "metadata": {
    "deletable": false,
    "editable": false,
    "nbgrader": {
     "checksum": "654f5e45ea0f29890bd021a38aae9c12",
     "grade": true,
     "grade_id": "test_overlap_seq",
     "locked": true,
     "points": 1.0,
     "schema_version": 1.0,
     "solution": false
    }
   },
   "outputs": [
    {
     "data": {
      "text/plain": [
       "'Automarking overlap alignment using BLOSUM62'"
      ]
     },
     "execution_count": 6,
     "metadata": {},
     "output_type": "execute_result"
    }
   ],
   "source": [
    "\"\"\"Automarking overlap alignment using BLOSUM62\"\"\""
   ]
  },
  {
   "cell_type": "code",
   "execution_count": null,
   "metadata": {},
   "outputs": [],
   "source": [
    ""
   ]
  },
  {
   "cell_type": "code",
   "execution_count": null,
   "metadata": {},
   "outputs": [],
   "source": [
    ""
   ]
  }
 ],
 "metadata": {
  "kernelspec": {
   "display_name": "Python 3",
   "language": "python",
   "name": "python3"
  },
  "language_info": {
   "codemirror_mode": {
    "name": "ipython",
    "version": 3.0
   },
   "file_extension": ".py",
   "mimetype": "text/x-python",
   "name": "python",
   "nbconvert_exporter": "python",
   "pygments_lexer": "ipython3",
   "version": "3.7.1"
  }
 },
 "nbformat": 4,
 "nbformat_minor": 0
}