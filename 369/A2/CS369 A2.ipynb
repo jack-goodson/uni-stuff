{
 "cells": [
  {
   "cell_type": "markdown",
   "metadata": {},
   "source": [
    "   # Jack Goodson 696622546 JGOO420"
   ]
  },
  {
   "cell_type": "code",
   "execution_count": 2,
   "metadata": {},
   "outputs": [],
   "source": [
    "from IPython.display import Image\n",
    "import numpy as np\n",
    "import pandas as pd\n",
    "import matplotlib.pyplot as plt\n",
    "import math as m\n",
    "%matplotlib inline\n",
    "import scipy.special"
   ]
  },
  {
   "cell_type": "markdown",
   "metadata": {},
   "source": [
    "## Question 1 i\n",
    "\n",
    "For this question we set $\\lambda$ to $6$ and $n$ to $10$, this gives us a $birds\\ per\\ hour$ unit to work with, we then use the poisson library function to generate a random sample using these parameters, output is generated over 10 bins as $\\sqrt{100}=10$, our sample output is in line with theoretcial outputs for the given parameters"
   ]
  },
  {
   "cell_type": "code",
   "execution_count": 3,
   "metadata": {},
   "outputs": [
    {
     "name": "stdout",
     "output_type": "stream",
     "text": [
      "Lambda is:  6 x is:  100\n",
      "Sample mean:  5.92\n",
      "Sample variance:  6.0336\n",
      "Theoretical mean:  6\n",
      "Theoretical variance:  6\n"
     ]
    },
    {
     "data": {
      "image/png": "[encoded data removed]",
      "text/plain": [
       "<Figure size 432x288 with 1 Axes>"
      ]
     },
     "metadata": {
      "needs_background": "light"
     },
     "output_type": "display_data"
    }
   ],
   "source": [
    "lamb = 6\n",
    "n = 100\n",
    "print(\"Lambda is: \", lamb, \"x is: \", n)\n",
    "result = np.random.poisson(lamb, n)\n",
    "plt.hist(result, bins = 10, density = True)\n",
    "\n",
    "print(\"Sample mean: \", np.mean(result))\n",
    "print(\"Sample variance: \", np.var(result))\n",
    "\n",
    "print(\"Theoretical mean: \", lamb)\n",
    "print(\"Theoretical variance: \", lamb)"
   ]
  },
  {
   "cell_type": "markdown",
   "metadata": {},
   "source": [
    "## Question 1 ii\n",
    "For this question we set $\\lambda$ to $100$ and $n$ to $200$, as the average lifespan for a tortoise is $100$ years and we want simulate it for $200$ of them, we then use the exponential library function to generate a random sample using these parameters, output is generated over $14$ bins as $\\sqrt{200}=14$, our sample output is in line with theoretcial outputs for the given parameters"
   ]
  },
  {
   "cell_type": "code",
   "execution_count": 4,
   "metadata": {},
   "outputs": [
    {
     "name": "stdout",
     "output_type": "stream",
     "text": [
      "Lambda is:  100 x is:  200\n",
      "Sample mean:  0.010732215779224412\n",
      "Sample variance:  0.00011429771434408223\n",
      "Theoretical mean:  0.01\n",
      "Theoretical variance:  0.0001\n"
     ]
    },
    {
     "data": {
      "image/png": "[encoded data removed]",
      "text/plain": [
       "<Figure size 432x288 with 1 Axes>"
      ]
     },
     "metadata": {
      "needs_background": "light"
     },
     "output_type": "display_data"
    }
   ],
   "source": [
    "lamb2 = 100\n",
    "n2= 200\n",
    "print(\"Lambda is: \", lamb2, \"x is: \", n2)\n",
    "\n",
    "result2 = np.random.exponential(1/lamb2, n)\n",
    "plt.hist(result2, bins = 14, density = True)\n",
    "\n",
    "print(\"Sample mean: \", np.mean(result2))\n",
    "print(\"Sample variance: \", np.var(result2))\n",
    "\n",
    "print(\"Theoretical mean: \", 1/lamb2)\n",
    "print(\"Theoretical variance: \", 1/(lamb2 ** 2))"
   ]
  },
  {
   "cell_type": "markdown",
   "metadata": {},
   "source": [
    "## Question 1 iii\n",
    "For this question we set $n$ to $200$, $p$ to $0.15$ and $x$ to $30$. $n$ is $200$ as we want to simulate for $200$ offspring, $p$ is 0.15 as the eggs have a $0.15$ out of $1$ chance of surviving and $x$ is $30$ as there are $30$ eggs per reptile, output is generated over 14 bins as $\\sqrt{200}=14$, our sample output is in line with theoretcial outputs for the given parameters"
   ]
  },
  {
   "cell_type": "code",
   "execution_count": 5,
   "metadata": {},
   "outputs": [
    {
     "name": "stdout",
     "output_type": "stream",
     "text": [
      "p is:  0.15 n is:  30 x is:   200\n",
      "Sample mean:  29.6\n",
      "Sample variance:  28.24\n",
      "Theoretical mean:  30.0\n",
      "Theoretical variance:  25.5\n"
     ]
    },
    {
     "data": {
      "image/png": "[encoded data removed]",
      "text/plain": [
       "<Figure size 432x288 with 1 Axes>"
      ]
     },
     "metadata": {
      "needs_background": "light"
     },
     "output_type": "display_data"
    }
   ],
   "source": [
    "p3 = 0.15\n",
    "x3 = 30\n",
    "n3 = 200\n",
    "\n",
    "print(\"p is: \", p3, \"n is: \", x3, \"x is:  \", n3)\n",
    "\n",
    "result3 = np.random.binomial(n3, p3, x3)\n",
    "plt.hist(result3, bins = 14, density = True)\n",
    "\n",
    "print(\"Sample mean: \", np.mean(result3))\n",
    "print(\"Sample variance: \", np.var(result3))\n",
    "\n",
    "print(\"Theoretical mean: \", n3 * p3)\n",
    "print(\"Theoretical variance: \", (n3*p3)*(1-p3))"
   ]
  },
  {
   "cell_type": "markdown",
   "metadata": {},
   "source": [
    "## Question 2 a\n",
    "\n",
    "As described by the inversion method we generate a random number $u$ between 0 and 1, we do this $size$ times and append these numbers to an array. We then perform $\\frac{-log(1-u)}{\\lambda}$ on each of the items in the list where $u$ is the list item and return it"
   ]
  },
  {
   "cell_type": "code",
   "execution_count": 6,
   "metadata": {},
   "outputs": [],
   "source": [
    "def rand_exp(rate, size):\n",
    "    u = np.random.sample(size)\n",
    "    u = -np.log(1-u) / rate\n",
    "    return u"
   ]
  },
  {
   "cell_type": "markdown",
   "metadata": {},
   "source": [
    "## Question 2 b\n",
    "\n",
    "In this function we loop $size$ times where each loop we take a sample using our $rand\\_exp$ function, during this sample taking in the inner loop we only break out of it if our samples go below our waiting time limit, we remember how many samples we take each time we go through the inner loop, these waiting time counts are poisson distributed"
   ]
  },
  {
   "cell_type": "code",
   "execution_count": 7,
   "metadata": {},
   "outputs": [],
   "source": [
    "def rand_poiss(rate, size):\n",
    "    vals = []\n",
    "    for v in range(size):\n",
    "        time = 1\n",
    "        c = 0\n",
    "        while time > 0:\n",
    "            c +=1\n",
    "            time -= rand_exp(rate, 1)\n",
    "        vals.append(c) \n",
    "    return vals"
   ]
  },
  {
   "cell_type": "markdown",
   "metadata": {},
   "source": [
    "## Question 2 c"
   ]
  },
  {
   "cell_type": "code",
   "execution_count": 8,
   "metadata": {},
   "outputs": [
    {
     "data": {
      "text/plain": [
       "(array([1.96012331e+00, 1.72952057e+00, 1.58490529e+00, 1.33280568e+00,\n",
       "        1.23313840e+00, 1.18623614e+00, 1.06702625e+00, 9.73221745e-01,\n",
       "        7.73887170e-01, 7.73887170e-01, 7.56298826e-01, 6.52723017e-01,\n",
       "        5.56964251e-01, 4.63159746e-01, 4.96382175e-01, 3.96714888e-01,\n",
       "        3.38087072e-01, 2.73596474e-01, 2.85322038e-01, 3.10727424e-01,\n",
       "        2.63825172e-01, 1.95426053e-01, 1.77837708e-01, 1.64157885e-01,\n",
       "        1.97380314e-01, 1.30935456e-01, 1.27026935e-01, 1.11392850e-01,\n",
       "        9.96672871e-02, 7.62161607e-02, 8.98959844e-02, 8.40332029e-02,\n",
       "        5.47192949e-02, 4.69022528e-02, 6.25363370e-02, 5.47192949e-02,\n",
       "        4.10394712e-02, 4.49479922e-02, 4.29937317e-02, 4.29937317e-02,\n",
       "        2.14968658e-02, 2.14968658e-02, 2.73596474e-02, 1.17255632e-02,\n",
       "        2.14968658e-02, 2.34511264e-02, 9.77130266e-03, 5.86278159e-03,\n",
       "        1.56340843e-02, 7.81704213e-03, 9.77130266e-03, 5.86278159e-03,\n",
       "        9.77130266e-03, 7.81704213e-03, 9.77130266e-03, 9.77130266e-03,\n",
       "        9.77130266e-03, 1.95426053e-03, 1.95426053e-03, 5.86278159e-03,\n",
       "        7.81704213e-03, 1.95426053e-03, 3.90852106e-03, 1.95426053e-03,\n",
       "        5.86278159e-03, 0.00000000e+00, 1.95426053e-03, 1.95426053e-03,\n",
       "        1.95426053e-03, 3.90852106e-03, 5.86278159e-03, 0.00000000e+00,\n",
       "        1.95426053e-03, 1.95426053e-03, 0.00000000e+00, 0.00000000e+00,\n",
       "        1.95426053e-03, 0.00000000e+00, 1.95426053e-03, 0.00000000e+00,\n",
       "        0.00000000e+00, 0.00000000e+00, 0.00000000e+00, 0.00000000e+00,\n",
       "        1.95426053e-03, 0.00000000e+00, 1.95426053e-03, 0.00000000e+00,\n",
       "        0.00000000e+00, 0.00000000e+00, 0.00000000e+00, 0.00000000e+00,\n",
       "        0.00000000e+00, 0.00000000e+00, 0.00000000e+00, 0.00000000e+00,\n",
       "        0.00000000e+00, 0.00000000e+00, 0.00000000e+00, 1.95426053e-03]),\n",
       " array([2.93288285e-05, 5.11995789e-02, 1.02369829e-01, 1.53540079e-01,\n",
       "        2.04710329e-01, 2.55880579e-01, 3.07050829e-01, 3.58221079e-01,\n",
       "        4.09391329e-01, 4.60561579e-01, 5.11731829e-01, 5.62902079e-01,\n",
       "        6.14072329e-01, 6.65242579e-01, 7.16412829e-01, 7.67583079e-01,\n",
       "        8.18753329e-01, 8.69923579e-01, 9.21093829e-01, 9.72264079e-01,\n",
       "        1.02343433e+00, 1.07460458e+00, 1.12577483e+00, 1.17694508e+00,\n",
       "        1.22811533e+00, 1.27928558e+00, 1.33045583e+00, 1.38162608e+00,\n",
       "        1.43279633e+00, 1.48396658e+00, 1.53513683e+00, 1.58630708e+00,\n",
       "        1.63747733e+00, 1.68864758e+00, 1.73981783e+00, 1.79098808e+00,\n",
       "        1.84215833e+00, 1.89332858e+00, 1.94449883e+00, 1.99566908e+00,\n",
       "        2.04683933e+00, 2.09800958e+00, 2.14917983e+00, 2.20035008e+00,\n",
       "        2.25152033e+00, 2.30269058e+00, 2.35386083e+00, 2.40503108e+00,\n",
       "        2.45620133e+00, 2.50737158e+00, 2.55854183e+00, 2.60971208e+00,\n",
       "        2.66088233e+00, 2.71205258e+00, 2.76322283e+00, 2.81439308e+00,\n",
       "        2.86556333e+00, 2.91673358e+00, 2.96790383e+00, 3.01907408e+00,\n",
       "        3.07024433e+00, 3.12141458e+00, 3.17258483e+00, 3.22375508e+00,\n",
       "        3.27492533e+00, 3.32609558e+00, 3.37726583e+00, 3.42843608e+00,\n",
       "        3.47960633e+00, 3.53077658e+00, 3.58194683e+00, 3.63311708e+00,\n",
       "        3.68428733e+00, 3.73545758e+00, 3.78662783e+00, 3.83779808e+00,\n",
       "        3.88896833e+00, 3.94013858e+00, 3.99130883e+00, 4.04247908e+00,\n",
       "        4.09364933e+00, 4.14481958e+00, 4.19598983e+00, 4.24716008e+00,\n",
       "        4.29833033e+00, 4.34950058e+00, 4.40067083e+00, 4.45184108e+00,\n",
       "        4.50301133e+00, 4.55418158e+00, 4.60535183e+00, 4.65652208e+00,\n",
       "        4.70769233e+00, 4.75886258e+00, 4.81003283e+00, 4.86120308e+00,\n",
       "        4.91237333e+00, 4.96354358e+00, 5.01471383e+00, 5.06588408e+00,\n",
       "        5.11705433e+00]),\n",
       " <a list of 100 Patch objects>)"
      ]
     },
     "execution_count": 8,
     "metadata": {},
     "output_type": "execute_result"
    },
    {
     "data": {
      "image/png": "[encoded data removed]",
      "text/plain": [
       "<Figure size 432x288 with 1 Axes>"
      ]
     },
     "metadata": {
      "needs_background": "light"
     },
     "output_type": "display_data"
    }
   ],
   "source": [
    "result_exp = np.random.exponential(1/2, 10000)\n",
    "plt.hist(result_exp, bins = 100, density=True)"
   ]
  },
  {
   "cell_type": "code",
   "execution_count": 9,
   "metadata": {},
   "outputs": [
    {
     "data": {
      "text/plain": [
       "(array([1.95676178, 1.73911566, 1.51530975, 1.45987159, 1.30177017,\n",
       "        1.13340242, 1.03895222, 0.89933018, 0.85621161, 0.71658957,\n",
       "        0.65499161, 0.66320467, 0.58723386, 0.6262459 , 0.4784108 ,\n",
       "        0.50920978, 0.42091938, 0.3305757 , 0.32030938, 0.33878877,\n",
       "        0.2833506 , 0.2361255 , 0.2422853 , 0.2422853 , 0.1950602 ,\n",
       "        0.19711346, 0.12935571, 0.14578183, 0.09855673, 0.11908938,\n",
       "        0.11292959, 0.08007734, 0.0944502 , 0.08007734, 0.08623714,\n",
       "        0.06365122, 0.06159796, 0.05543816, 0.02669245, 0.05133163,\n",
       "        0.01847939, 0.02463918, 0.02053265, 0.03901204, 0.01642612,\n",
       "        0.02053265, 0.03285224, 0.01026633, 0.01437286, 0.01026633,\n",
       "        0.01437286, 0.01231959, 0.01642612, 0.01026633, 0.02053265,\n",
       "        0.00821306, 0.0061598 , 0.01437286, 0.00410653, 0.01026633,\n",
       "        0.00821306, 0.0061598 , 0.0061598 , 0.01026633, 0.00205327,\n",
       "        0.00410653, 0.00205327, 0.00205327, 0.00205327, 0.00205327,\n",
       "        0.00205327, 0.00205327, 0.        , 0.00205327, 0.        ,\n",
       "        0.00205327, 0.        , 0.        , 0.        , 0.00205327,\n",
       "        0.        , 0.        , 0.        , 0.        , 0.        ,\n",
       "        0.        , 0.00205327, 0.        , 0.        , 0.        ,\n",
       "        0.        , 0.        , 0.        , 0.        , 0.        ,\n",
       "        0.        , 0.        , 0.        , 0.        , 0.00205327]),\n",
       " array([1.11309166e-05, 4.87140445e-02, 9.74169582e-02, 1.46119872e-01,\n",
       "        1.94822785e-01, 2.43525699e-01, 2.92228613e-01, 3.40931526e-01,\n",
       "        3.89634440e-01, 4.38337354e-01, 4.87040267e-01, 5.35743181e-01,\n",
       "        5.84446095e-01, 6.33149008e-01, 6.81851922e-01, 7.30554835e-01,\n",
       "        7.79257749e-01, 8.27960663e-01, 8.76663576e-01, 9.25366490e-01,\n",
       "        9.74069404e-01, 1.02277232e+00, 1.07147523e+00, 1.12017814e+00,\n",
       "        1.16888106e+00, 1.21758397e+00, 1.26628689e+00, 1.31498980e+00,\n",
       "        1.36369271e+00, 1.41239563e+00, 1.46109854e+00, 1.50980145e+00,\n",
       "        1.55850437e+00, 1.60720728e+00, 1.65591019e+00, 1.70461311e+00,\n",
       "        1.75331602e+00, 1.80201894e+00, 1.85072185e+00, 1.89942476e+00,\n",
       "        1.94812768e+00, 1.99683059e+00, 2.04553350e+00, 2.09423642e+00,\n",
       "        2.14293933e+00, 2.19164224e+00, 2.24034516e+00, 2.28904807e+00,\n",
       "        2.33775099e+00, 2.38645390e+00, 2.43515681e+00, 2.48385973e+00,\n",
       "        2.53256264e+00, 2.58126555e+00, 2.62996847e+00, 2.67867138e+00,\n",
       "        2.72737429e+00, 2.77607721e+00, 2.82478012e+00, 2.87348304e+00,\n",
       "        2.92218595e+00, 2.97088886e+00, 3.01959178e+00, 3.06829469e+00,\n",
       "        3.11699760e+00, 3.16570052e+00, 3.21440343e+00, 3.26310634e+00,\n",
       "        3.31180926e+00, 3.36051217e+00, 3.40921509e+00, 3.45791800e+00,\n",
       "        3.50662091e+00, 3.55532383e+00, 3.60402674e+00, 3.65272965e+00,\n",
       "        3.70143257e+00, 3.75013548e+00, 3.79883839e+00, 3.84754131e+00,\n",
       "        3.89624422e+00, 3.94494714e+00, 3.99365005e+00, 4.04235296e+00,\n",
       "        4.09105588e+00, 4.13975879e+00, 4.18846170e+00, 4.23716462e+00,\n",
       "        4.28586753e+00, 4.33457044e+00, 4.38327336e+00, 4.43197627e+00,\n",
       "        4.48067919e+00, 4.52938210e+00, 4.57808501e+00, 4.62678793e+00,\n",
       "        4.67549084e+00, 4.72419375e+00, 4.77289667e+00, 4.82159958e+00,\n",
       "        4.87030249e+00]),\n",
       " <a list of 100 Patch objects>)"
      ]
     },
     "execution_count": 9,
     "metadata": {},
     "output_type": "execute_result"
    },
    {
     "data": {
      "image/png": "[encoded data removed]",
      "text/plain": [
       "<Figure size 432x288 with 1 Axes>"
      ]
     },
     "metadata": {
      "needs_background": "light"
     },
     "output_type": "display_data"
    }
   ],
   "source": [
    "result_exp2 = rand_exp(2, 10000)\n",
    "plt.hist(result_exp2, bins = 100, density=True)"
   ]
  },
  {
   "cell_type": "code",
   "execution_count": 10,
   "metadata": {},
   "outputs": [
    {
     "data": {
      "text/plain": [
       "(array([1.56111111, 0.        , 0.        , 0.        , 0.        ,\n",
       "        0.        , 0.        , 0.        , 0.        , 0.        ,\n",
       "        0.        , 2.93222222, 0.        , 0.        , 0.        ,\n",
       "        0.        , 0.        , 0.        , 0.        , 0.        ,\n",
       "        0.        , 0.        , 3.00555556, 0.        , 0.        ,\n",
       "        0.        , 0.        , 0.        , 0.        , 0.        ,\n",
       "        0.        , 0.        , 0.        , 1.96888889, 0.        ,\n",
       "        0.        , 0.        , 0.        , 0.        , 0.        ,\n",
       "        0.        , 0.        , 0.        , 0.        , 1.04222222,\n",
       "        0.        , 0.        , 0.        , 0.        , 0.        ,\n",
       "        0.        , 0.        , 0.        , 0.        , 0.        ,\n",
       "        0.39666667, 0.        , 0.        , 0.        , 0.        ,\n",
       "        0.        , 0.        , 0.        , 0.        , 0.        ,\n",
       "        0.        , 0.15111111, 0.        , 0.        , 0.        ,\n",
       "        0.        , 0.        , 0.        , 0.        , 0.        ,\n",
       "        0.        , 0.        , 0.03444444, 0.        , 0.        ,\n",
       "        0.        , 0.        , 0.        , 0.        , 0.        ,\n",
       "        0.        , 0.        , 0.        , 0.01444444, 0.        ,\n",
       "        0.        , 0.        , 0.        , 0.        , 0.        ,\n",
       "        0.        , 0.        , 0.        , 0.        , 0.00444444]),\n",
       " array([0.  , 0.09, 0.18, 0.27, 0.36, 0.45, 0.54, 0.63, 0.72, 0.81, 0.9 ,\n",
       "        0.99, 1.08, 1.17, 1.26, 1.35, 1.44, 1.53, 1.62, 1.71, 1.8 , 1.89,\n",
       "        1.98, 2.07, 2.16, 2.25, 2.34, 2.43, 2.52, 2.61, 2.7 , 2.79, 2.88,\n",
       "        2.97, 3.06, 3.15, 3.24, 3.33, 3.42, 3.51, 3.6 , 3.69, 3.78, 3.87,\n",
       "        3.96, 4.05, 4.14, 4.23, 4.32, 4.41, 4.5 , 4.59, 4.68, 4.77, 4.86,\n",
       "        4.95, 5.04, 5.13, 5.22, 5.31, 5.4 , 5.49, 5.58, 5.67, 5.76, 5.85,\n",
       "        5.94, 6.03, 6.12, 6.21, 6.3 , 6.39, 6.48, 6.57, 6.66, 6.75, 6.84,\n",
       "        6.93, 7.02, 7.11, 7.2 , 7.29, 7.38, 7.47, 7.56, 7.65, 7.74, 7.83,\n",
       "        7.92, 8.01, 8.1 , 8.19, 8.28, 8.37, 8.46, 8.55, 8.64, 8.73, 8.82,\n",
       "        8.91, 9.  ]),\n",
       " <a list of 100 Patch objects>)"
      ]
     },
     "execution_count": 10,
     "metadata": {},
     "output_type": "execute_result"
    },
    {
     "data": {
      "image/png": "[encoded data removed]",
      "text/plain": [
       "<Figure size 432x288 with 1 Axes>"
      ]
     },
     "metadata": {
      "needs_background": "light"
     },
     "output_type": "display_data"
    }
   ],
   "source": [
    "result_poiss = np.random.poisson(2, 10000)\n",
    "plt.hist(result_poiss, bins = 100, density = True)"
   ]
  },
  {
   "cell_type": "code",
   "execution_count": 11,
   "metadata": {},
   "outputs": [
    {
     "data": {
      "text/plain": [
       "(array([1.51444444e+00, 0.00000000e+00, 0.00000000e+00, 0.00000000e+00,\n",
       "        0.00000000e+00, 0.00000000e+00, 0.00000000e+00, 0.00000000e+00,\n",
       "        0.00000000e+00, 0.00000000e+00, 0.00000000e+00, 2.97777778e+00,\n",
       "        0.00000000e+00, 0.00000000e+00, 0.00000000e+00, 0.00000000e+00,\n",
       "        0.00000000e+00, 0.00000000e+00, 0.00000000e+00, 0.00000000e+00,\n",
       "        0.00000000e+00, 0.00000000e+00, 3.05666667e+00, 0.00000000e+00,\n",
       "        0.00000000e+00, 0.00000000e+00, 0.00000000e+00, 0.00000000e+00,\n",
       "        0.00000000e+00, 0.00000000e+00, 0.00000000e+00, 0.00000000e+00,\n",
       "        0.00000000e+00, 1.97555556e+00, 0.00000000e+00, 0.00000000e+00,\n",
       "        0.00000000e+00, 0.00000000e+00, 0.00000000e+00, 0.00000000e+00,\n",
       "        0.00000000e+00, 0.00000000e+00, 0.00000000e+00, 0.00000000e+00,\n",
       "        9.96666667e-01, 0.00000000e+00, 0.00000000e+00, 0.00000000e+00,\n",
       "        0.00000000e+00, 0.00000000e+00, 0.00000000e+00, 0.00000000e+00,\n",
       "        0.00000000e+00, 0.00000000e+00, 0.00000000e+00, 4.07777778e-01,\n",
       "        0.00000000e+00, 0.00000000e+00, 0.00000000e+00, 0.00000000e+00,\n",
       "        0.00000000e+00, 0.00000000e+00, 0.00000000e+00, 0.00000000e+00,\n",
       "        0.00000000e+00, 0.00000000e+00, 1.44444444e-01, 0.00000000e+00,\n",
       "        0.00000000e+00, 0.00000000e+00, 0.00000000e+00, 0.00000000e+00,\n",
       "        0.00000000e+00, 0.00000000e+00, 0.00000000e+00, 0.00000000e+00,\n",
       "        0.00000000e+00, 3.11111111e-02, 0.00000000e+00, 0.00000000e+00,\n",
       "        0.00000000e+00, 0.00000000e+00, 0.00000000e+00, 0.00000000e+00,\n",
       "        0.00000000e+00, 0.00000000e+00, 0.00000000e+00, 0.00000000e+00,\n",
       "        5.55555556e-03, 0.00000000e+00, 0.00000000e+00, 0.00000000e+00,\n",
       "        0.00000000e+00, 0.00000000e+00, 0.00000000e+00, 0.00000000e+00,\n",
       "        0.00000000e+00, 0.00000000e+00, 0.00000000e+00, 1.11111111e-03]),\n",
       " array([ 1.  ,  1.09,  1.18,  1.27,  1.36,  1.45,  1.54,  1.63,  1.72,\n",
       "         1.81,  1.9 ,  1.99,  2.08,  2.17,  2.26,  2.35,  2.44,  2.53,\n",
       "         2.62,  2.71,  2.8 ,  2.89,  2.98,  3.07,  3.16,  3.25,  3.34,\n",
       "         3.43,  3.52,  3.61,  3.7 ,  3.79,  3.88,  3.97,  4.06,  4.15,\n",
       "         4.24,  4.33,  4.42,  4.51,  4.6 ,  4.69,  4.78,  4.87,  4.96,\n",
       "         5.05,  5.14,  5.23,  5.32,  5.41,  5.5 ,  5.59,  5.68,  5.77,\n",
       "         5.86,  5.95,  6.04,  6.13,  6.22,  6.31,  6.4 ,  6.49,  6.58,\n",
       "         6.67,  6.76,  6.85,  6.94,  7.03,  7.12,  7.21,  7.3 ,  7.39,\n",
       "         7.48,  7.57,  7.66,  7.75,  7.84,  7.93,  8.02,  8.11,  8.2 ,\n",
       "         8.29,  8.38,  8.47,  8.56,  8.65,  8.74,  8.83,  8.92,  9.01,\n",
       "         9.1 ,  9.19,  9.28,  9.37,  9.46,  9.55,  9.64,  9.73,  9.82,\n",
       "         9.91, 10.  ]),\n",
       " <a list of 100 Patch objects>)"
      ]
     },
     "execution_count": 11,
     "metadata": {},
     "output_type": "execute_result"
    },
    {
     "data": {
      "image/png": "[encoded data removed]",
      "text/plain": [
       "<Figure size 432x288 with 1 Axes>"
      ]
     },
     "metadata": {
      "needs_background": "light"
     },
     "output_type": "display_data"
    }
   ],
   "source": [
    "result_poiss2 = rand_poiss(2, 10000)\n",
    "plt.hist(result_poiss2, bins = 100, density = True)"
   ]
  },
  {
   "cell_type": "markdown",
   "metadata": {},
   "source": [
    "## Question 3 a\n",
    "\n",
    "In this function we generate two sequences, one with one different base than the other, this can be thought of as the point were $E$ and $F$ split apart. We mutate each sequence independently of each other by going through each sequence $time$ times decrementing it with a single sample from the random exponential function and performing a mutation each time we go through the loop. In $b$ we see that a mutation occours about $375$ times for a sequence of length $1000$, this means with our given mutation rate, about every $4th$ base is mutated"
   ]
  },
  {
   "cell_type": "code",
   "execution_count": 12,
   "metadata": {},
   "outputs": [
    {
     "name": "stdout",
     "output_type": "stream",
     "text": [
      "Differences between E & F:  7\n",
      "Differences between D & E:  3\n",
      "Differences between D & F:  4\n"
     ]
    }
   ],
   "source": [
    "def jc(length, rate, time):\n",
    "    ls = ['A', 'T', 'C', 'G']\n",
    "    seq1 = np.random.choice(ls, length)\n",
    "    seq2 = seq1.copy()\n",
    "    orig_seq = seq1.copy()\n",
    "    site = np.random.choice(length)\n",
    "    ls.remove(seq2[site])\n",
    "    mut_to = np.random.choice(ls)\n",
    "    seq2[site] = mut_to \n",
    "    rate *= 0.75\n",
    "    rate = 1 / rate\n",
    "    \n",
    "    t1 = (time * length) - np.random.exponential(rate)\n",
    "    t2 = (time * length) - np.random.exponential(rate)\n",
    "\n",
    "    mutate1 = 0\n",
    "    mutate2 = 0\n",
    "    while t1 > 0:\n",
    "        site = int(t1/time)\n",
    "        time_to_wait = np.random.exponential(rate)\n",
    "        letters = ['A', 'T', 'C', 'G']\n",
    "        letters.remove(seq1[site])\n",
    "        mut_to = np.random.choice(letters)\n",
    "        seq1[site] = mut_to\n",
    "        t1 -= time_to_wait\n",
    "        mutate1 += 1 \n",
    "        \n",
    "    \n",
    "    while t2 > 0:\n",
    "            time_to_wait2 = np.random.exponential(rate)\n",
    "            site2 = int(t2/time)\n",
    "            letters2 = ['A', 'T', 'C', 'G']\n",
    "            letters2.remove(seq2[site2])\n",
    "            mut_to2 = np.random.choice(letters2)\n",
    "            seq2[site2] = mut_to2\n",
    "            t2 -= time_to_wait2\n",
    "            mutate2 += 1\n",
    "        \n",
    "    s1_s2, s1_orig, s2_orig =0,0,0\n",
    "    for i in range(length):\n",
    "        if seq1[i] != seq2[i]:\n",
    "            s1_s2 +=1\n",
    "        if seq1[i] != orig_seq[i]:\n",
    "            s1_orig += 1\n",
    "        if seq2[i] != orig_seq[i]:\n",
    "            s2_orig +=1\n",
    "    \n",
    "    return s1_s2, s1_orig, s2_orig, (mutate1 + mutate2)\n",
    "results = jc(50, 0.01, 10)\n",
    "print(\"Differences between E & F: \", results[0])\n",
    "print(\"Differences between D & E: \", results[1])\n",
    "print(\"Differences between D & F: \", results[2])"
   ]
  },
  {
   "cell_type": "markdown",
   "metadata": {},
   "source": [
    "##Question 3 b\n",
    "\n",
    "The number of mutations can be poisson distributed using the parameter $2tL$($\\frac{3}{4}$$\\mu$) as $\\mu$ is the equivalent of the rate of mutations, L is obvious as this is the length of our sequence likewise with 3/4 as this is the likelyhood of change to another base, we have the coefficient 2 as there are 2 sequences.\n",
    "\n",
    "Looking at the outputs below we are able to see that the average number of mutations in the two sequences is in line with the theoretical amount of mutations for the two sequences, this information can't be gathered alone when looking at just the differences between the sequences as some resolution is lost if a site mutates more than once, altering our final output"
   ]
  },
  {
   "cell_type": "code",
   "execution_count": 13,
   "metadata": {},
   "outputs": [
    {
     "name": "stdout",
     "output_type": "stream",
     "text": [
      "Average number of mutations in generated sequence:  375.727\n",
      "Average number of differences in generated sequences:  165.91\n",
      "Average variance in generated sequences:  133.32389999999998\n",
      "Theoretical number of mutations:  375.0\n"
     ]
    }
   ],
   "source": [
    "out = []\n",
    "m = []\n",
    "\n",
    "for v in range(1000):\n",
    "    func = jc(1000, 0.01, 25)\n",
    "    out.append(func[1])\n",
    "    m.append(func[-1])\n",
    "\n",
    "print(\"Average number of mutations in generated sequence: \", np.average(m))\n",
    "print(\"Average number of differences in generated sequences: \", np.average(out))\n",
    "print(\"Average variance in generated sequences: \",np.var(out))\n",
    "print(\"Theoretical number of mutations: \",2 * ((25 * 1000) * (3/4 * 0.01)))"
   ]
  },
  {
   "cell_type": "markdown",
   "metadata": {},
   "source": [
    "### Question 4 a"
   ]
  },
  {
   "cell_type": "markdown",
   "metadata": {},
   "source": [
    "### $a_{HH} = 19/20 = 0.95$ $a_{SS} = 11/12 = 0.92$ $a_{TT} = 9/10 = 0.90$\n",
    "\n",
    "These are the probilities for a transtion from one state to the same one. We use the mean sequence length to generate these probabilites. We did this for example with $a_{HH} = 19/20 = 0.95$, the mean sequence length is 20, this means $\\frac{19}{20}$ times $H$ will transition to $H$ leaving $\\frac{1}{20}$ to transition to $S$ and $T$. The same logic was applied for the other same to same transitions."
   ]
  },
  {
   "cell_type": "markdown",
   "metadata": {},
   "source": [
    "## Question 4 b\n",
    "\n",
    "The below HMM has had its transition probabilites using the about logic for transitions to the same state.\n",
    "\n",
    "We then used the remaining probabilities and information given to define the transitions to other states, ie $a_{HH} = 0.95$ giving us $0.05$ left over. Given the provided information we know that $H$ will transition to $S$ $20\\%$ of the time and $T$ $80\\%$ of the time, this means our transition probabilites are $0.05 \\times 0.20=0.10$ and $0.05 \\times 0.80=0.40$ respectively. This logic was used to define all our transitions (excluding same state to same state transitions).\n",
    "\n",
    "The emission probablities were dervied from the information given regarding whether a secondary structure was hydrophobic, hyrdrophilic or neutral. These emissions percentages were simply converted to decimal format."
   ]
  },
  {
   "cell_type": "code",
   "execution_count": 14,
   "metadata": {},
   "outputs": [
    {
     "data": {
      "image/jpeg": "[encoded data removed]",
      "text/plain": [
       "<IPython.core.display.Image object>"
      ]
     },
     "metadata": {}
    }
   ],
   "source": [
    "Image(filename = \"/Users/jackgoodson/hmm1.jpg\")"
   ]
  },
  {
   "cell_type": "markdown",
   "metadata": {},
   "source": [
    "## Question 4 c\n",
    "\n",
    "In this function we generate two lists, the transition list and emission list, this is done by creating matrices from the HMM described above and taking a weighted random choice at each step in our sequence to produce the outputs."
   ]
  },
  {
   "cell_type": "code",
   "execution_count": 3,
   "metadata": {},
   "outputs": [
    {
     "name": "stdout",
     "output_type": "stream",
     "text": [
      "S, S, S, S, S, S, S, T, T, T, H, H, H, H, H, H, T, T, T, T, T, T, T, T, T, T, T, S, S, S, S, S, S, S, S, S, S, S, S, S, S, S, S, S, S, S, S, S, S, H, H, H, H, H, H, H, H, T, T, T, T, T, S, S, S, S, S, S, S, T, T, T, T, H, H, H, H, T, T, T, H, H, H, H, H, T, T, T, T, T, T, T, T, T, T, T, T, T, T, T, T, T, H, H, H, H, H, H, H, H, H, H, H, H, H, H, H, H, H, H, H, H, H, H, H, H, H, H, H, H, H, H, T, T, H, H, H, H, H, H, H, H, H, H, H, H, H, H, H, H\n",
      "\n",
      "B, B, I, N, N, B, N, N, N, N, I, I, B, B, I, N, N, I, I, N, I, N, N, N, N, N, N, B, I, B, B, B, N, B, B, B, I, N, B, B, I, B, N, N, I, B, B, I, B, N, I, I, I, N, B, I, I, N, N, N, N, N, N, B, B, N, N, B, N, N, N, N, I, B, I, I, I, N, N, N, B, I, I, I, I, I, N, N, N, I, N, N, N, N, N, N, N, N, I, N, N, N, I, I, I, I, N, I, I, B, I, B, B, N, B, I, I, I, I, I, N, N, N, I, I, I, B, N, I, B, I, B, N, I, I, I, B, I, B, I, I, I, N, B, I, N, B, I, B, I\n"
     ]
    }
   ],
   "source": [
    "def hmm(l, a, e):\n",
    "    emission_list = []\n",
    "    transition_list = []\n",
    "    curr_pos = np.random.choice(['H','S','T'])\n",
    "    for i in range(l):\n",
    "         em = e[:][curr_pos:curr_pos]\n",
    "         trans = a[:][curr_pos:curr_pos]\n",
    "         emission_state = np.random.choice(['B','I','N'], p=em.values[0])\n",
    "         transition_state = np.random.choice(['H','S','T'], p=trans.values[0])\n",
    "         emission_list.append(emission_state)\n",
    "         transition_list.append(curr_pos)\n",
    "         curr_pos = transition_state\n",
    "    return [emission_list, transition_list]\n",
    "\n",
    "\n",
    "e_frame = np.reshape((0.35,0.55,0.10,0.55,0.15,0.30,0.10,0.10,0.80), (3, 3))\n",
    "emission = pd.DataFrame(e_frame, index=['H','S','T'], columns=['B','I','N']) \n",
    "\n",
    "t_frame = np.reshape((0.95,0.01,0.04,0.03,0.92,0.05,0.05,0.05,0.90), (3, 3))\n",
    "transition = pd.DataFrame(t_frame, index=['H','S','T'], columns=['H','S','T']) \n",
    "\n",
    "m = hmm(150,transition, emission)\n",
    "\n",
    "print(', '.join(m[1]))\n",
    "print()\n",
    "print(', '.join(m[0]))"
   ]
  },
  {
   "cell_type": "markdown",
   "metadata": {},
   "source": [
    "## Question 4 d\n",
    "\n",
    "This function works similarily to the function above but in reverse, we take in the transition and emission lists and work out the probabilities of these events occouring given the lists, we work these out using our transition and emission matrices and then multiply all of the probabilities together and take the natural log of it to give our final answer."
   ]
  },
  {
   "cell_type": "code",
   "execution_count": 471,
   "metadata": {},
   "outputs": [
    {
     "name": "stdout",
     "output_type": "stream",
     "text": [
      "Joint probability:  -36.58727134209149\n"
     ]
    }
   ],
   "source": [
    "def joint_prob(t2, e2, a, e):\n",
    "    e_trans = t2.copy()\n",
    "    transition_probs = []\n",
    "    for i in range(len(t2)-1):\n",
    "        x1 = t2[1]\n",
    "        x2 = t2[0]\n",
    "        t2.pop(0)\n",
    "        tran_prob = a[x1][x2]\n",
    "        transition_probs.append(tran_prob)\n",
    "        \n",
    "    emission_probs = []\n",
    "    for k in range(len(e2)):\n",
    "        y1 = e2[0]\n",
    "        y2 = e_trans[0]\n",
    "        e2.pop(0)\n",
    "        e_trans.pop(0)\n",
    "        em_prob = e[y1][y2]\n",
    "        emission_probs.append(em_prob)\n",
    "    all_probs = [1/3] + emission_probs + transition_probs\n",
    "    j_prob = np.log(np.prod(np.array(all_probs)))\n",
    "    return transition_probs, emission_probs, j_prob\n",
    "\n",
    "\n",
    "\n",
    "d1 = ['S','S','S','S','T','T','S','S','S','S','S','S','S','H','H','H','H','H','H','H','H','H','H','H','H']\n",
    "d2 = ['N','N','I','B','N','B','N','B','B','B','N','N','B','B','B','B','I','I','I','I','I','B','N','B','I']\n",
    "d = joint_prob(d1, d2, transition, emission)\n",
    "print(\"Joint probability: \",d[2])"
   ]
  },
  {
   "cell_type": "code",
   "execution_count": null,
   "metadata": {},
   "outputs": [],
   "source": [
    ""
   ]
  }
 ],
 "metadata": {
  "kernelspec": {
   "display_name": "Python 3",
   "language": "python",
   "name": "python3"
  },
  "language_info": {
   "codemirror_mode": {
    "name": "ipython",
    "version": 3.0
   },
   "file_extension": ".py",
   "mimetype": "text/x-python",
   "name": "python",
   "nbconvert_exporter": "python",
   "pygments_lexer": "ipython3",
   "version": "3.7.1"
  }
 },
 "nbformat": 4,
 "nbformat_minor": 0
}