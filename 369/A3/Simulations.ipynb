{
 "cells": [
  {
   "cell_type": "markdown",
   "metadata": {},
   "source": [
    "### CS 369 2019 \n",
    "\n",
    "\n",
    "Student: Jack Goodson\n",
    "\n",
    "UPI: JGOO420\n",
    "\n",
    "\n",
    "## Assignment 3 : Simulations (13 + 2 points)\n",
    "\n",
    "\n",
    "In this assignment you will write code to \n",
    "- simulate random coalescent trees, \n",
    "- simulate DNA sequences on those trees, \n",
    "- reconstruct trees from the simulated sequences,\n",
    "- implement the Fitch algorithm.\n",
    "\n",
    "13 points for five questions, and the extra 2 points for well documented source code. 7.5% of final grade.\n",
    "\n",
    "Due: Friday 24th May 23:59\n"
   ]
  },
  {
   "cell_type": "markdown",
   "metadata": {},
   "source": [
    "### Instructions\n",
    "\n",
    "Please update your name and UPI above.  \n",
    "\n",
    "Write your submission in a Jupyter notebook and write any code in Python 3. You should submit the .ipynb file. The primary document the markers will look at is the .ipynb file.\n",
    "\n",
    "In your report, include explanations of what you are doing and comments in the code. Where you are making mathematical derivations, show your working.\n"
   ]
  },
  {
   "cell_type": "code",
   "execution_count": 3,
   "metadata": {},
   "outputs": [
    {
     "name": "stdout",
     "output_type": "stream",
     "text": [
      "python 3.7.1\n",
      "numpy 1.15.4\n",
      "matplotlib 3.0.2\n",
      "scipy 1.1.0\n"
     ]
    }
   ],
   "source": [
    "# import packages\n",
    "\n",
    "from platform import python_version\n",
    "print(\"python\", python_version())\n",
    "\n",
    "import numpy as np\n",
    "print(\"numpy\", np.version.version)\n",
    "\n",
    "import matplotlib \n",
    "print(\"matplotlib\", matplotlib.__version__)\n",
    "\n",
    "import scipy \n",
    "print(\"scipy\", scipy.__version__)\n",
    "\n",
    "import matplotlib.pyplot as plt"
   ]
  },
  {
   "cell_type": "markdown",
   "metadata": {},
   "source": [
    "The Python classes to implement a UPGMA tree are available in _UPGMA.py_. Please make sure you load it successfully before you start coding. "
   ]
  },
  {
   "cell_type": "code",
   "execution_count": 3,
   "metadata": {},
   "outputs": [
    {
     "data": {
      "image/png": "[encoded data removed]",
      "text/plain": [
       "<Figure size 432x288 with 1 Axes>"
      ]
     },
     "metadata": {
      "needs_background": "light"
     },
     "output_type": "display_data"
    },
    {
     "data": {
      "image/png": "[encoded data removed]",
      "text/plain": [
       "<Figure size 432x288 with 1 Axes>"
      ]
     },
     "metadata": {
      "needs_background": "light"
     },
     "output_type": "display_data"
    },
    {
     "data": {
      "image/png": "[encoded data removed]",
      "text/plain": [
       "<Figure size 432x288 with 1 Axes>"
      ]
     },
     "metadata": {
      "needs_background": "light"
     },
     "output_type": "display_data"
    },
    {
     "data": {
      "text/plain": [
       "<Figure size 432x288 with 0 Axes>"
      ]
     },
     "metadata": {},
     "output_type": "display_data"
    }
   ],
   "source": [
    "%matplotlib inline\n",
    "tree = compute_upgma_tree([[0, 4, 8, 8],\n",
    "                           [4, 0, 8, 8], \n",
    "                           [8, 8, 0, 6], \n",
    "                           [8, 8, 6, 0]])\n",
    "plot_tree(tree)\n",
    "# Note: the given Python classes are imported successfully only when the plotted tree is shown below, \n",
    "# otherwise please run this cell again.   \n",
    "%run UPGMA.py"
   ]
  },
  {
   "cell_type": "markdown",
   "metadata": {},
   "source": [
    "## Question 1: Kingman coalescent model\n",
    "\n",
    "### i. Implement Kingman coalescent model (1 points)\n",
    "\n",
    "Write a method that simulates trees according to the Kingman coalescent model (described below) which takes as input the number of leaves, $n$, and the effective population size, $N_e$. Use the provided Python classes to represent a tree (available on Canvas).\n",
    "\n",
    "The Kingman coalescent model is a lineage death process backwards in time that\n",
    "provides a simple algorithm for simulating a gene tree of $n$ chromosomes from a\n",
    "larger population of $N_e$ chromosomes. From each leaf, start a lineage going back in\n",
    "time. Each pair of lineages coalesces at rate $1/N_e$. When there are $k$ lineages, the\n",
    "total rate of coalescence in the tree is $􏰃{k \\choose 2}􏰄/N_e$. Thus, we can generate a coalescent\n",
    "tree with $n$ leaves as follows:\n",
    "\n",
    "<!---<img src=\"coalescent.png\",width=700,height=500>--->\n",
    "\n",
    "<!--- code block ``` cannot work with math --->\n",
    "\n",
    "Set $k = n, t = 0$.\n",
    "\n",
    "Make $n$ leaf nodes with time $t = 0$ and labeled from 1 to $n$. This is the set of available nodes.\n",
    "\n",
    "While $k > 1$, iterate:\n",
    "\n",
    "> Generate a time $t_k$ and set $t = t + t_k$.\n",
    "where $$t_k ∼ Exp􏰇􏰃({k \\choose 2}􏰄/N_e)$$\n",
    "\n",
    "> Make a new node, $m$, with height $t$ and choose two distinct nodes, $i$ and $j$,\n",
    "         uniformly at random from the set of available nodes. Make $i$ and $j$ the\n",
    "         child nodes of $m$.       \n",
    "\n",
    "> Add $m$ to the set of available nodes and remove $i$ and $j$ from this set.\n",
    "\n",
    "> Set $k = k − 1$.\n",
    "\n",
    "\n",
    "If the above algorithm isn't displayed properly, you can see it from the attached file \"coalescent.png\".\n"
   ]
  },
  {
   "cell_type": "code",
   "execution_count": 215,
   "metadata": {
    "deletable": false,
    "nbgrader": {
     "checksum": "79463adaed744fd31956649deef50b90",
     "grade": true,
     "grade_id": "coalescent",
     "locked": false,
     "points": 1.0,
     "schema_version": 1.0,
     "solution": true
    }
   },
   "outputs": [],
   "source": [
    "import scipy.stats\n",
    "\n",
    "np.random.seed(1234)\n",
    "\n",
    "def coalescent(n,Ne):\n",
    "    node_set = [] \n",
    "    for i in range(n): # Generate leaf nodes at height 0 with labels \n",
    "        j = Node(i)\n",
    "        j.set_label(str(i + 1))\n",
    "        j.set_height(0)\n",
    "        node_set.append(j) # add node labelled of height 0 to set of availible nodes\n",
    "    k = n\n",
    "    t = 0\n",
    "    while k > 1:\n",
    "        k_choose_2 = np.math.factorial(k) / (2 * (np.math.factorial(k-2))) # calculate k choose 2\n",
    "        tk = np.random.exponential(1/(k_choose_2/Ne)) # random choice from exp dist with 1/k choose 2 parameter\n",
    "        t = t + tk\n",
    "        m = Node()\n",
    "        m.set_height(t)  # set current height to t for new node m\n",
    "        ij = np.random.choice(len(node_set), 2, replace = False) # choose 2 numbers to index random node choice\n",
    "        i_node = node_set[ij[0]-1] # choose node from node set\n",
    "        del node_set[ij[0]-1] # delete node from node set\n",
    "        j_node = node_set[ij[1]-1] # second node choice\n",
    "        del node_set[ij[1]-1] # second node choice deletion\n",
    "        m.add_child(i_node)\n",
    "        m.add_child(j_node)\n",
    "        node_set.append(m) # add node m with two child nodes attached\n",
    "        k -=1\n",
    "    tree = Tree()\n",
    "    tree.set_root(node_set[0]) # create a tree with top node from our node set as the root\n",
    "    return tree"
   ]
  },
  {
   "cell_type": "markdown",
   "metadata": {},
   "source": [
    "### ii. Simulate trees (1 points)\n",
    "\n",
    "Given $n = 10$ and $N_e = 200$, the theoretical mean height of the simulated trees should be: \n",
    "$$ E( height(n, N_e) ) = 2 N_e (1 - \\frac{1}{n}) = 2 \\times 200 \\times 0.9 = 360$$\n",
    "\n",
    "1. To check the correctness of your implementation, simulate 1,000 trees and check that the mean height of the trees (that is, the time of the root node) agrees with the theoretical mean.\n",
    "\n",
    "2. What happens if you simulate 10,000 trees?\n",
    "\n",
    "3. Use the provided plot tree method to include a picture of a simulated tree using the given $n$ and $N_e$ in your report.\n"
   ]
  },
  {
   "cell_type": "code",
   "execution_count": 284,
   "metadata": {
    "deletable": false,
    "nbgrader": {
     "checksum": "89c24f632db430420e55b89764c2caa1",
     "grade": true,
     "grade_id": "sim-trees",
     "locked": false,
     "points": 1.0,
     "schema_version": 1.0,
     "solution": true
    }
   },
   "outputs": [
    {
     "name": "stdout",
     "output_type": "stream",
     "text": [
      "Average height: 359\n"
     ]
    },
    {
     "data": {
      "image/png": "[encoded data removed]",
      "text/plain": [
       "<Figure size 432x288 with 1 Axes>"
      ]
     },
     "metadata": {
      "needs_background": "light"
     },
     "output_type": "display_data"
    }
   ],
   "source": [
    "mean = []\n",
    "n = 10\n",
    "Ne = 200\n",
    "for i in range(10000):\n",
    "    t = coalescent(n, Ne)\n",
    "    mean.append(t.get_root().get_height()) # get height of root node and append to list\n",
    "print(\"Average height:\",int(np.round(np.average(mean)))) # average and round all samples\n",
    "plot_tree(t)"
   ]
  },
  {
   "cell_type": "markdown",
   "metadata": {},
   "source": [
    "## Question 2: Jukes-Cantor substitution down a tree\n",
    "\n",
    "### i. Write a method (1 points)\n",
    "\n",
    "to simulate sequences down a simulated tree according to the Jukes-Cantor substitution model. Your method should take a tree with $n$ leaves, sequence length $L$, and a mutation rate $\\mu$. It should return the tree with sequences stored at the nodes using the method `set_sequence(sequence)`.\n",
    "\n",
    "Your method should generate a uniform random sequence of length $L$ at the root node and recursively mutate it down the branches of the tree, using the node heights to calculate branch length. Pseudocode methods for random sequence generation and mutation down a lineage are provided at the end of this problem.\n",
    "\n",
    "You may reuse your code from Assignment 2 + modifications.\n"
   ]
  },
  {
   "cell_type": "markdown",
   "metadata": {},
   "source": [
    "__Pseudocode of the methods__\n",
    "\n",
    "The method randseq simulates a uniform random sequence. The method mutates a given sequence according to the Jukes-Cantor model of mutation over a given length.\n",
    "\n",
    "```\n",
    "randseq(L)\n",
    "  for (i in 1 to L)\n",
    "    seq[i] = choice([’A’,’C’,’G’,’T’], [0.25,0.25,0.25,0.25])\n",
    "  return seq\n",
    "```\n",
    "\n",
    "The mutate method below allows “mutations” from a base to itself. The uncorrected mutation rate ($\\mu$ rather than 3$\\mu$) can therefore be used.\n",
    "\n",
    "```\n",
    "mutate(X,t,mu)\n",
    "  L= X.length()\n",
    "  # the number of mutations is Poisson with total rate L*mu*t\n",
    "  numMutation = randpoiss(L*mu*t)\n",
    "  # for each mutation, choose a site to mutate and mutate it\n",
    "  for (i in 1 to numMutation)\n",
    "    # choose a site\n",
    "    site = ceiling(random()*L)\n",
    "    # mutate that site\n",
    "    X[site] =  choice([’A’,’C’,’G’,’T’], [0.25,0.25,0.25,0.25])\n",
    "return X\n",
    "```\n"
   ]
  },
  {
   "cell_type": "code",
   "execution_count": 285,
   "metadata": {
    "deletable": false,
    "nbgrader": {
     "checksum": "a6a218e7b8e1417b1fa86bb3c1913845",
     "grade": true,
     "grade_id": "JC",
     "locked": false,
     "points": 1.0,
     "schema_version": 1.0,
     "solution": true
    }
   },
   "outputs": [],
   "source": [
    "def rand_seq(L):\n",
    "    seq = []\n",
    "    for i in range(L): # create sequence of length L\n",
    "        seq.append(np.random.choice([\"A\", \"C\", \"G\", \"T\"])) # choose a random base for each point in a sequence\n",
    "    return seq\n",
    "        \n",
    "def mutate(X, t, mu):\n",
    "    L = len(X)\n",
    "    numMut = np.random.poisson(L*mu*t) # calculate the number of mutations given sequence length, mu and time\n",
    "    mX = X.copy()\n",
    "    for k in range(numMut): # go through sequence and mutate for how many mutations we generated\n",
    "        site = np.random.choice(L) # choose random site in the sequence to mutate\n",
    "        mX[site] = np.random.choice([\"A\", \"C\", \"G\", \"T\"]) # change the site in the sequence to a random mutation\n",
    "    return mX\n",
    "\n",
    "def visit(node, mu):\n",
    "    if not(node.is_root()): # if the node isn't the root give it a mutated sequence from it's parent\n",
    "        seq = node.get_parent().get_sequence() # get parent sequence to mutate\n",
    "        tdiff = node.get_parent().get_height() - node.get_height() # get height difference between node and parent \n",
    "        node.set_sequence(mutate(seq, tdiff, mu)) # set mutated parents sequence as nodes sequence\n",
    "    \n",
    "    for c in range(len(node.get_children())): # run the method for each child \n",
    "        visit(node.get_children()[c], mu)\n",
    "\n",
    "\n",
    "def jc(t, L, mu):\n",
    "    root = t.get_root()\n",
    "    root.set_sequence(rand_seq(L)) # generate sequence for root of tree\n",
    "    visit(root, mu) # call tree mutation/traversal method\n",
    "    t = Tree(root)\n",
    "    return t"
   ]
  },
  {
   "cell_type": "markdown",
   "metadata": {},
   "source": [
    "### ii. Test your method (1 points)\n",
    "\n",
    "Use the tree simulated in Question 1, and print all sequences of the tips labelled by the tip names."
   ]
  },
  {
   "cell_type": "code",
   "execution_count": 286,
   "metadata": {
    "deletable": false,
    "nbgrader": {
     "checksum": "4c049eb25e208469fbd2689d94f5c10f",
     "grade": true,
     "grade_id": "test-sim",
     "locked": false,
     "points": 1.0,
     "schema_version": 1.0,
     "solution": true
    }
   },
   "outputs": [
    {
     "name": "stdout",
     "output_type": "stream",
     "text": [
      "Node with Label: 6 ATCGGTCTGA\n",
      "Node with Label: 2 GGAGATCCAT\n",
      "Node with Label: 10 GGAGATCCAT\n",
      "Node with Label: 5 GCAGATGCCT\n",
      "Node with Label: 7 TGCCAGCACT\n",
      "Node with Label: 4 AGCCAGCACT\n",
      "Node with Label: 9 TGCCAGCACA\n",
      "Node with Label: 3 TGCCAGCACA\n",
      "Node with Label: 8 TTCCTGAGTA\n",
      "Node with Label: 1 TTCCTGAGTA\n"
     ]
    }
   ],
   "source": [
    "jc(t, 10, 0.01)\n",
    "for i in t.get_leaves(): # print leaves labels with sequences associated for tree\n",
    "    print(\"Node with Label:\",i.get_label(),\"\".join(i.get_sequence()))"
   ]
  },
  {
   "cell_type": "markdown",
   "metadata": {},
   "source": [
    "## Question 3: Building a distance matrix\n",
    "\n",
    "### i. Write a method (1 points)\n",
    "\n",
    "to calculate the Jukes-Cantor distance matrix, $d$, from a set of sequences, where $d_{ij}$ is the distance between the $i$th and the $j$th sequences. Recall that the Jukes-Cantor distance for sequences $x$ and $y$ is defined by\n",
    "\n",
    "$$ d_{xy} = −\\frac{3}{4}log(1 − \\frac{4f_{xy}}{3}) $$  \n",
    "\n",
    "<!--- <img src=\"JCdist.png\",width=300,height=200> --->\n",
    "\n",
    "  where $f_{xy}$ is the fraction of differing sites between $x$ and $y$. Since we will be dealing with short sequences, use the following definition of $f_{xy}$ so that the distances are well-defined:\n",
    "\n",
    "􏰉$$ f_{xy} = min ( \\frac{D_{xy}}{L} , 0.75 − \\frac{1}{L}) $$\n",
    "\n",
    "<!--- <img src=\"JCfrac.png\",width=300,height=200> --->\n",
    "\n",
    "  where $D_{xy}$ is the number of differing sites between $x$ and $y$, and $L$ is the length of $x$.\n",
    "\n",
    "\n",
    "If the above equations aren't displayed properly, you can see them from the attached files \"JCdist.png\" and \"JCfrac.png\"."
   ]
  },
  {
   "cell_type": "code",
   "execution_count": 287,
   "metadata": {
    "deletable": false,
    "nbgrader": {
     "checksum": "e81b33b49e12dbb222a971c5845e0f64",
     "grade": true,
     "grade_id": "JC-dist",
     "locked": false,
     "points": 1.0,
     "schema_version": 1.0,
     "solution": true
    }
   },
   "outputs": [],
   "source": [
    "def dist_mat(seq_list):\n",
    "    L = len(seq_list[0]) # generate length sequences given\n",
    "    mat = np.zeros([len(seq_list), len(seq_list)], dtype = float) # generate matrix for length of sequence list\n",
    "    for i in range(len(seq_list)): # add values to matrix row-wise \n",
    "        for j in range(len(seq_list)):\n",
    "            x = seq_list[i] \n",
    "            y = seq_list[j]\n",
    "            diff_sites = sum(1 for a, b in zip(x, y) if a != b) # count the number of differing sites given x and y\n",
    "            mat[i][j] = -3/4 * np.log(1 - ((4*compute_f(diff_sites, L))/3)) # generate jukes cantor distance\n",
    "    return mat\n",
    "\n",
    "def compute_f(diff, L):\n",
    "    return min((diff/L), 0.75-(1/L)) # generate fraction of differing sites"
   ]
  },
  {
   "cell_type": "markdown",
   "metadata": {},
   "source": [
    "### ii. Test your method (1 points)\n",
    "\n",
    "Include a simulated set of sequences of length $L = 20$ from the tree leaves and corresponding distance matrix in your report for a tree with $n = 10$, $Ne = 200$ and the mutation parameter $\\mu = 0.03$."
   ]
  },
  {
   "cell_type": "code",
   "execution_count": 288,
   "metadata": {
    "deletable": false,
    "nbgrader": {
     "checksum": "29397087f4d9655c5f02062969bdc40c",
     "grade": true,
     "grade_id": "test-dist",
     "locked": false,
     "points": 1.0,
     "schema_version": 1.0,
     "solution": true
    }
   },
   "outputs": [
    {
     "data": {
      "text/plain": [
       "array([[-0.        ,  2.03103765,  2.03103765,  2.03103765,  2.03103765,\n",
       "         2.03103765,  2.03103765,  2.03103765,  2.03103765,  2.03103765],\n",
       "       [ 2.03103765, -0.        ,  0.10732563,  0.68721805,  2.03103765,\n",
       "         2.03103765,  2.03103765,  2.03103765,  2.03103765,  2.03103765],\n",
       "       [ 2.03103765,  0.10732563, -0.        ,  0.68721805,  2.03103765,\n",
       "         2.03103765,  2.03103765,  2.03103765,  2.03103765,  2.03103765],\n",
       "       [ 2.03103765,  0.68721805,  0.68721805, -0.        ,  2.03103765,\n",
       "         2.03103765,  2.03103765,  2.03103765,  2.03103765,  2.03103765],\n",
       "       [ 2.03103765,  2.03103765,  2.03103765,  2.03103765, -0.        ,\n",
       "         0.2326162 ,  0.10732563,  0.2326162 ,  2.03103765,  2.03103765],\n",
       "       [ 2.03103765,  2.03103765,  2.03103765,  2.03103765,  0.2326162 ,\n",
       "        -0.        ,  0.10732563,  0.2326162 ,  2.03103765,  2.03103765],\n",
       "       [ 2.03103765,  2.03103765,  2.03103765,  2.03103765,  0.10732563,\n",
       "         0.10732563, -0.        ,  0.10732563,  2.03103765,  2.03103765],\n",
       "       [ 2.03103765,  2.03103765,  2.03103765,  2.03103765,  0.2326162 ,\n",
       "         0.2326162 ,  0.10732563, -0.        ,  2.03103765,  2.03103765],\n",
       "       [ 2.03103765,  2.03103765,  2.03103765,  2.03103765,  2.03103765,\n",
       "         2.03103765,  2.03103765,  2.03103765, -0.        , -0.        ],\n",
       "       [ 2.03103765,  2.03103765,  2.03103765,  2.03103765,  2.03103765,\n",
       "         2.03103765,  2.03103765,  2.03103765, -0.        , -0.        ]])"
      ]
     },
     "execution_count": 288,
     "metadata": {},
     "output_type": "execute_result"
    }
   ],
   "source": [
    "jc(t, 20, 0.03) # modify tree with jc and mutate it\n",
    "sequences = []\n",
    "for i in t.get_leaves(): \n",
    "    sequences.append(\"\".join(i.get_sequence())) # get sequences and append to list as joined strings\n",
    "dist_mat(sequences) # pass our list of strings and generate distance matrix"
   ]
  },
  {
   "cell_type": "markdown",
   "metadata": {},
   "source": [
    "## Question 4: Reconstruct tree using UPGMA\n",
    "\n",
    "### i. Write a method (1 points)\n",
    "\n",
    "Write a method \n",
    "- to simulate the set of sequences from the given tree leaves with a given length (e.g. $L = 50$) and the mutation parameter $\\mu$. This tree will be simulated (e.g. with $n = 10$ and $N_e = 200$) using your code in Question 1. You can also use your code in Question 2 to simulate the set of sequences.  \n",
    "- and then, for each simulated set of sequences from the leaves, calculate the distance matrix and print it out. This can use your code in Question 3. \n",
    "- for each distance matrix, reconstruct the tree using the provided `compute_upgma_tree()` method and plot the reconstructed tree using `plot_tree()`.\n",
    "\n",
    "In a summary, your method should print a distance matrix and the reconstructed tree from this matrix, given an original tree, the sequence length, and $\\mu$.   \n"
   ]
  },
  {
   "cell_type": "code",
   "execution_count": 289,
   "metadata": {
    "deletable": false,
    "nbgrader": {
     "checksum": "22d03623e5ee4d2feaacc3b151c13819",
     "grade": true,
     "grade_id": "sim-L",
     "locked": false,
     "points": 1.0,
     "schema_version": 1.0,
     "solution": true
    }
   },
   "outputs": [],
   "source": [
    "def UPGMA(t, L, mu):  \n",
    "    jc(t, L, mu) # mutate given tree with jukes-cantor method\n",
    "    sequences = []\n",
    "    leaves = t.get_leaves() # get leaves from given tree\n",
    "    sort_leaves = []\n",
    "    for q in range(len(leaves)): # sort nodes by labels so labels match in reconstructed tree\n",
    "        for z in leaves:\n",
    "            if int(z.get_label()) == q + 1:\n",
    "                sort_leaves.append(z)\n",
    "    for i in sort_leaves: # add leaf sequences to list as strings\n",
    "        sequences.append(\"\".join(i.get_sequence()))\n",
    "    matrix = dist_mat(sequences) # generate distance matrix\n",
    "    print(matrix)\n",
    "    upgma_t = compute_upgma_tree(matrix) # reconstruct UPGMA tree\n",
    "    plot_tree(upgma_t)"
   ]
  },
  {
   "cell_type": "markdown",
   "metadata": {},
   "source": [
    "### ii. The \"true\" tree (1 points)\n",
    "\n",
    "Now use the Question 1 code to simulate a coalescent tree with $n = 10$ and $N_e = 200$, which will be the original tree to compare with a plot of each reconstructed tree. Plot it below.\n"
   ]
  },
  {
   "cell_type": "code",
   "execution_count": 309,
   "metadata": {
    "deletable": false,
    "nbgrader": {
     "checksum": "ce3495309c40c0bf6eb53eee177e88b9",
     "grade": true,
     "grade_id": "sim-orig",
     "locked": false,
     "points": 1.0,
     "schema_version": 1.0,
     "solution": true
    }
   },
   "outputs": [
    {
     "data": {
      "image/png": "[encoded data removed]",
      "text/plain": [
       "<Figure size 432x288 with 1 Axes>"
      ]
     },
     "metadata": {
      "needs_background": "light"
     },
     "output_type": "display_data"
    }
   ],
   "source": [
    "true_tree = coalescent(10, 200)\n",
    "plot_tree(true_tree)"
   ]
  },
  {
   "cell_type": "markdown",
   "metadata": {},
   "source": [
    "### iii. Test & report (1 points)\n",
    "\n",
    "Test your method with the fixed $\\mu = 0.03$ and with lengths $L = 50$, $L = 200$ and $L = 1000$ respectively.\n",
    "\n",
    "Comment on the quality of the reconstructions and the effect that increasing the sequence length has on the accuracy of the reconstruction."
   ]
  },
  {
   "cell_type": "code",
   "execution_count": 310,
   "metadata": {
    "deletable": false,
    "nbgrader": {
     "checksum": "0947ef73e34fca82a1111235fa5dac15",
     "grade": true,
     "grade_id": "test-report",
     "locked": false,
     "points": 1.0,
     "schema_version": 1.0,
     "solution": true
    }
   },
   "outputs": [
    {
     "name": "stdout",
     "output_type": "stream",
     "text": [
      "[[-0.          2.7182557   2.7182557   2.7182557   2.41415687  2.41415687\n",
      "   2.7182557   2.7182557   2.7182557   2.7182557 ]\n",
      " [ 2.7182557  -0.          2.7182557   1.59019765  1.20707843  2.41415687\n",
      "   2.03103765  1.77868347  2.7182557   2.7182557 ]\n",
      " [ 2.7182557   2.7182557  -0.          2.7182557   2.03103765  2.03103765\n",
      "   1.02978685  1.20707843  2.7182557   2.7182557 ]\n",
      " [ 2.7182557   1.59019765  2.7182557  -0.          2.7182557   1.77868347\n",
      "   2.03103765  2.03103765  2.7182557   2.7182557 ]\n",
      " [ 2.41415687  1.20707843  2.03103765  2.7182557  -0.          2.7182557\n",
      "   2.7182557   2.7182557   2.7182557   2.41415687]\n",
      " [ 2.41415687  2.41415687  2.03103765  1.77868347  2.7182557  -0.\n",
      "   0.82395922  0.88649542  1.77868347  2.7182557 ]\n",
      " [ 2.7182557   2.03103765  1.02978685  2.03103765  2.7182557   0.82395922\n",
      "  -0.          0.28924686  2.7182557   2.7182557 ]\n",
      " [ 2.7182557   1.77868347  1.20707843  2.03103765  2.7182557   0.88649542\n",
      "   0.28924686 -0.          2.7182557   2.7182557 ]\n",
      " [ 2.7182557   2.7182557   2.7182557   2.7182557   2.7182557   1.77868347\n",
      "   2.7182557   2.7182557  -0.          2.7182557 ]\n",
      " [ 2.7182557   2.7182557   2.7182557   2.7182557   2.41415687  2.7182557\n",
      "   2.7182557   2.7182557   2.7182557  -0.        ]]\n"
     ]
    },
    {
     "data": {
      "image/png": "[encoded data removed]",
      "text/plain": [
       "<Figure size 432x288 with 1 Axes>"
      ]
     },
     "metadata": {
      "needs_background": "light"
     },
     "output_type": "display_data"
    },
    {
     "name": "stdout",
     "output_type": "stream",
     "text": [
      "[[-0.          2.19839531  2.7182557   2.19839531  1.77868347  2.55089804\n",
      "   3.75797647  3.75797647  2.7182557   3.75797647]\n",
      " [ 2.19839531 -0.          2.41415687  3.75797647  1.18248607  3.75797647\n",
      "   3.75797647  3.75797647  3.23811609  2.93401725]\n",
      " [ 2.7182557   2.41415687 -0.          3.75797647  3.75797647  0.80910725\n",
      "   1.01030524  0.97279742  3.75797647  2.93401725]\n",
      " [ 2.19839531  3.75797647  3.75797647 -0.          3.75797647  3.75797647\n",
      "   3.23811609  3.75797647  2.7182557   2.11005804]\n",
      " [ 1.77868347  1.18248607  3.75797647  3.75797647 -0.          3.23811609\n",
      "   3.75797647  3.75797647  3.75797647  2.7182557 ]\n",
      " [ 2.55089804  3.75797647  0.80910725  3.75797647  3.23811609 -0.\n",
      "   0.49044485  0.56096656  3.75797647  3.75797647]\n",
      " [ 3.75797647  3.75797647  1.01030524  3.23811609  3.75797647  0.49044485\n",
      "  -0.          0.32694324  3.75797647  3.75797647]\n",
      " [ 3.75797647  3.75797647  0.97279742  3.75797647  3.75797647  0.56096656\n",
      "   0.32694324 -0.          3.75797647  3.75797647]\n",
      " [ 2.7182557   3.23811609  3.75797647  2.7182557   3.75797647  3.75797647\n",
      "   3.75797647  3.75797647 -0.          3.75797647]\n",
      " [ 3.75797647  2.93401725  2.93401725  2.11005804  2.7182557   3.75797647\n",
      "   3.75797647  3.75797647  3.75797647 -0.        ]]\n"
     ]
    },
    {
     "data": {
      "image/png": "[encoded data removed]",
      "text/plain": [
       "<Figure size 432x288 with 1 Axes>"
      ]
     },
     "metadata": {
      "needs_background": "light"
     },
     "output_type": "display_data"
    },
    {
     "name": "stdout",
     "output_type": "stream",
     "text": [
      "[[-0.          2.25686647  4.9650549   4.9650549   1.97331687  4.9650549\n",
      "   3.10137492  3.92533413  3.50562229  3.40547375]\n",
      " [ 2.25686647 -0.          4.9650549   3.92533413  1.22223046  4.9650549\n",
      "   4.9650549   3.16663345  2.88561336  4.9650549 ]\n",
      " [ 4.9650549   4.9650549  -0.          4.9650549   4.9650549   0.99885463\n",
      "   1.0457449   1.07871724  4.9650549   4.9650549 ]\n",
      " [ 4.9650549   3.92533413  4.9650549  -0.          4.9650549   4.44519452\n",
      "   3.40547375  2.58151453  4.9650549   3.16663345]\n",
      " [ 1.97331687  1.22223046  4.9650549   4.9650549  -0.          4.9650549\n",
      "   4.9650549   4.9650549   3.40547375  4.9650549 ]\n",
      " [ 4.9650549   4.9650549   0.99885463  4.44519452  4.9650549  -0.\n",
      "   0.61801159  0.64824824  4.9650549   4.9650549 ]\n",
      " [ 3.10137492  4.9650549   1.0457449   3.40547375  4.9650549   0.61801159\n",
      "  -0.          0.28047483  4.9650549   3.6212353 ]\n",
      " [ 3.92533413  3.16663345  1.07871724  2.58151453  4.9650549   0.64824824\n",
      "   0.28047483 -0.          4.9650549   2.93401725]\n",
      " [ 3.50562229  2.88561336  4.9650549   4.9650549   3.40547375  4.9650549\n",
      "   4.9650549   4.9650549  -0.          3.10137492]\n",
      " [ 3.40547375  4.9650549   4.9650549   3.16663345  4.9650549   4.9650549\n",
      "   3.6212353   2.93401725  3.10137492 -0.        ]]\n"
     ]
    },
    {
     "data": {
      "image/png": "[encoded data removed]",
      "text/plain": [
       "<Figure size 432x288 with 1 Axes>"
      ]
     },
     "metadata": {
      "needs_background": "light"
     },
     "output_type": "display_data"
    }
   ],
   "source": [
    "UPGMA(true_tree, 50, 0.03)\n",
    "UPGMA(true_tree, 200, 0.03)\n",
    "UPGMA(true_tree, 1000, 0.03)"
   ]
  },
  {
   "cell_type": "markdown",
   "metadata": {},
   "source": [
    "The accuracy increases of the UPGMA tree reconstruction as sequence lengths get longer as there is less information loss of sites that get mutated multiple times on longer sequences compared to shorter ones."
   ]
  },
  {
   "cell_type": "markdown",
   "metadata": {},
   "source": [
    "## Question 5: Fitch's algorithm\n",
    "\n",
    "### i. Simulation (1 points)\n",
    "\n",
    "Write a method that simulates the set of sequences down a given (coalescent) tree according to the Jukes-Cantor substitution model, which takes as input a tree  (the tree class is provided by the Python file), the sequence length $L$ and $\\mu$. You may reuse your code in Question 2. The method needs to return the tree with sequences stored at the nodes, and also the total number of mutations during the simulation.\n",
    "\n",
    "Test your method using the coalescent tree that you produced in Question 4 ii and assigning $L = 100$ and $\\mu = 0.05$. Then, plot the tree and report the total number of mutations.\n"
   ]
  },
  {
   "cell_type": "code",
   "execution_count": 311,
   "metadata": {
    "deletable": false,
    "nbgrader": {
     "checksum": "f0fc286242a87c02903e1f23b1cecbd1",
     "grade": true,
     "grade_id": "sim2",
     "locked": false,
     "points": 1.0,
     "schema_version": 1.0,
     "solution": true
    }
   },
   "outputs": [
    {
     "data": {
      "image/png": "[encoded data removed]",
      "text/plain": [
       "<Figure size 432x288 with 1 Axes>"
      ]
     },
     "metadata": {
      "needs_background": "light"
     },
     "output_type": "display_data"
    },
    {
     "name": "stdout",
     "output_type": "stream",
     "text": [
      "7782 mutations occuorred\n"
     ]
    }
   ],
   "source": [
    "def m_rand_seq(L):\n",
    "    seq = []\n",
    "    for i in range(L): # create sequence of length L\n",
    "        seq.append(np.random.choice([\"A\", \"C\", \"G\", \"T\"]))\n",
    "    return seq\n",
    "        \n",
    "def m_mutate(X, t, mu, tot_mut):\n",
    "    L = len(X)\n",
    "    numMut = np.random.poisson(L*mu*t) # calculate the number of mutations given sequence length, mu and time\n",
    "    mX = X.copy()\n",
    "    mut_count = 0\n",
    "    for k in range(numMut): # go through sequence and mutate for how many mutations we generated\n",
    "        site = np.random.choice(L) # choose random site in the sequence to mutate\n",
    "        mX[site] = np.random.choice([\"A\", \"C\", \"G\", \"T\"]) # change the site in the sequence to a random mutation\n",
    "        mut_count +=1 # count mutations in sequence\n",
    "    tot_mut.append(mut_count) # append mutation for particular sequence to total count\n",
    "    return mX\n",
    "\n",
    "def m_visit(node, mu, tot_mut):\n",
    "    if not(node.is_root()): # if node isn't the root give it a mutated sequence from it's parent node\n",
    "        seq = node.get_parent().get_sequence()\n",
    "        tdiff = node.get_parent().get_height() - node.get_height() # get height difference between parent and node\n",
    "        node.set_sequence(m_mutate(seq, tdiff, mu, tot_mut)) # set mutated sequence as nodes sequence\n",
    "    \n",
    "    for c in range(len(node.get_children())): # run the method for each child \n",
    "        m_visit(node.get_children()[c], mu, tot_mut)\n",
    "   \n",
    "def jc_muts(t, L, mu):\n",
    "    tot_mut = []\n",
    "    root = t.get_root()\n",
    "    root.set_sequence(m_rand_seq(L)) # generate and set sequence for root of tree\n",
    "    m_visit(root, mu, tot_mut) # call tree mutation/traversal method\n",
    "    t = Tree(root)\n",
    "    tree_muts = np.sum(tot_mut) # sum total mutations \n",
    "    return t, tree_muts\n",
    "\n",
    "true_tree_results = jc_muts(true_tree, 100, 0.05)\n",
    "\n",
    "plot_tree(true_tree_results[0])\n",
    "print(true_tree_results[1], \"mutations occuorred\")"
   ]
  },
  {
   "cell_type": "markdown",
   "metadata": {},
   "source": [
    "### ii. Implement the Fitch algorithm (1 points)\n",
    "\n",
    "Write a method that calculates the parsimony score of a tree by implementing the Fitch algorithm. Using the sequences stored at the leaf nodes of the tree (refer to Question 5 i), you can calculate the parsimony score one site a time, and sum up them to a total score for the tree. \n",
    "\n",
    "Test your method and print the parsimony score using the tree with sequences produced in Question 5 i. \n",
    "\n",
    "Tip: you can simplify your code to assume the tree is a binary tree, since we are going to use the coalescent tree as the input in this question. The Fitch algorithm and tree traversal have been covered in lecture 9 and tutorial 4. \n"
   ]
  },
  {
   "cell_type": "code",
   "execution_count": 312,
   "metadata": {
    "deletable": false,
    "nbgrader": {
     "checksum": "ae8cfbf9b74e23858103dc38fe1ae0fe",
     "grade": true,
     "grade_id": "cell-Fitch",
     "locked": false,
     "points": 1.0,
     "schema_version": 1.0,
     "solution": true
    }
   },
   "outputs": [
    {
     "name": "stdout",
     "output_type": "stream",
     "text": [
      "Parsimony score of tree: 449\n"
     ]
    }
   ],
   "source": [
    "def fitch(t):\n",
    "    p_score = 0 # overall parsimony score\n",
    "    for site in range(len(t.get_leaves()[0].get_sequence())): # run visit method for each site\n",
    "        scores = []\n",
    "        site_scores = fitch_visit(t.get_root(), site, scores, dict()) # run visit method on tree\n",
    "        p_score += np.sum(site_scores) # sum of scores on sites\n",
    "    return p_score\n",
    "\n",
    "def fitch_visit(node, site, scores, site_dic):\n",
    "    score = 0\n",
    "    if node.is_leaf(): # if the node is a leaf add it as a key to the dictionary\n",
    "        site_dic[node] = set(node.get_sequence()[site]) # add corresponding base to node in dictionary\n",
    "        return score\n",
    "    else: # if the node isn't a leaf\n",
    "        n0 = node.get_children()[0] # get child 1\n",
    "        n1 = node.get_children()[1] # get child 2\n",
    "        fitch_visit(n0, site, scores, site_dic) # run visit method on child 1\n",
    "        fitch_visit(n1, site, scores, site_dic) # run visit method on child 2\n",
    "        \n",
    "    if len(site_dic[n0].intersection(site_dic[n1])) != 0: # if the intersection of the children is non-empty\n",
    "           site_dic[node] = site_dic[n0].intersection(site_dic[n1]) # set node vals in dictionary to intersection \n",
    "    else: # if intersection of children is empty\n",
    "           site_dic[node] = site_dic[n0].union(site_dic[n1]) # set node vals in dictionary to union of children\n",
    "           score +=1 # increment score by 1   \n",
    "    scores.append(score) # add score to list of scores for each site\n",
    "    return scores \n",
    "\n",
    "print(\"Parsimony score of tree:\", fitch(true_tree))"
   ]
  },
  {
   "cell_type": "markdown",
   "metadata": {},
   "source": [
    "## iii. Parsimony score vs. number of mutations (1 points)\n",
    "\n",
    "Using the _true_ tree that you produced in Question 4 ii, set $L = 2000$ and $\\mu = 6\\times10^{-4}$, and then run 100 simulations to count the number of mutations during each simulation and the parsimony score of the tree (use the methods implemented in i and ii). Plot the distribution of parsimony scores and the number of mutations from the simulations. \n",
    "\n",
    "Tip: you may use some data visualization libraries, such as matplotlib, seaborn. \n"
   ]
  },
  {
   "cell_type": "code",
   "execution_count": 313,
   "metadata": {
    "deletable": false,
    "nbgrader": {
     "checksum": "f4f2d304fa0a1e86bf4e7f2729f02d18",
     "grade": true,
     "grade_id": "cell-ps-mu",
     "locked": false,
     "points": 1.0,
     "schema_version": 1.0,
     "solution": true
    }
   },
   "outputs": [
    {
     "data": {
      "text/plain": [
       "(array([0.00308642, 0.00617284, 0.00555556, 0.01049383, 0.0117284 ,\n",
       "        0.00987654, 0.00740741, 0.0037037 , 0.00185185, 0.00185185]),\n",
       " array([1210. , 1226.2, 1242.4, 1258.6, 1274.8, 1291. , 1307.2, 1323.4,\n",
       "        1339.6, 1355.8, 1372. ]),\n",
       " <a list of 10 Patch objects>)"
      ]
     },
     "execution_count": 313,
     "metadata": {},
     "output_type": "execute_result"
    },
    {
     "data": {
      "image/png": "[encoded data removed]",
      "text/plain": [
       "<Figure size 432x288 with 1 Axes>"
      ]
     },
     "metadata": {
      "needs_background": "light"
     },
     "output_type": "display_data"
    }
   ],
   "source": [
    "L=2000\n",
    "mu=6E-4\n",
    "mutations = []\n",
    "p_scores = []\n",
    "for i in range(100):\n",
    "    mutations.append(jc_muts(true_tree, L, mu)[1]) # get true number of mutations in a tree\n",
    "    p_scores.append(fitch(true_tree)) # get parsimony score for a tree\n",
    "\n",
    "plt.hist(mutations, bins = 10, density = True) # plot overlayed histograms of scores/mutations\n",
    "plt.hist(p_scores, bins = 10, density = True)"
   ]
  },
  {
   "cell_type": "markdown",
   "metadata": {},
   "source": [
    "### iv. Report (1 points)\n",
    "\n",
    "Briefly explain what happened during your experiment and why.\n",
    "\n",
    "Tip: try different mutation rates $\\mu$ to your method in iii."
   ]
  },
  {
   "cell_type": "markdown",
   "metadata": {
    "deletable": false,
    "nbgrader": {
     "checksum": "1b5aec788cb519d3e83e7931df05300d",
     "grade": true,
     "grade_id": "cell-q5",
     "locked": false,
     "points": 1.0,
     "schema_version": 1.0,
     "solution": true
    }
   },
   "source": [
    "In blue we observe the number of mutations during each simulation and in orange we observe the parsimony score of the given tree. For very high mutation rates the distributions get further away from each other as there is a loss of information on bases that mutate multiple times when calculating the parsimony score, this information isn't lost when counting the mutations. On low mutation rates we see the two distributions start to converge towards each other, this is because there is little information loss when calculating the parsimony score compared to the actual number of mutations."
   ]
  },
  {
   "cell_type": "code",
   "execution_count": null,
   "metadata": {},
   "outputs": [],
   "source": [
    ""
   ]
  }
 ],
 "metadata": {
  "kernelspec": {
   "display_name": "Python 3",
   "language": "python",
   "name": "python3"
  },
  "language_info": {
   "codemirror_mode": {
    "name": "ipython",
    "version": 3.0
   },
   "file_extension": ".py",
   "mimetype": "text/x-python",
   "name": "python",
   "nbconvert_exporter": "python",
   "pygments_lexer": "ipython3",
   "version": "3.7.1"
  }
 },
 "nbformat": 4,
 "nbformat_minor": 0
}