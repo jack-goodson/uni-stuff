{
 "cells": [
  {
   "cell_type": "markdown",
   "metadata": {},
   "source": [
    "# CS 369 2019 \n",
    "\n",
    "\n",
    "Student: Jack Goodson\n",
    "\n",
    "UPI: JGOO420\n",
    "\n",
    "\n",
    "## Assignment 4 : HMM & MCMC (13 + 2 points)\n",
    "\n",
    "\n",
    "In this assignment you will write code to implement\n",
    "- The forward and backward algorithms for hidden Markov models, \n",
    "- The MCMC algorithm to sample the posterior distribution. \n",
    "\n",
    "Plus 2 extra points for well commented code.\n",
    "\n",
    "Due: Wednesday 12th June at 23:59 \n"
   ]
  },
  {
   "cell_type": "markdown",
   "metadata": {},
   "source": [
    "### Instruction\n",
    "\n",
    "Please update your name and UPI above.  \n",
    "\n",
    "Write your submission in a Jupyter notebook and write any code in Python 3. You should submit the .ipynb file. The primary document the markers will look at is the .ipynb file.\n",
    "\n",
    "In your report, include explanations of what you are doing and comments in the code. Where you are making mathematical derivations, show your working.\n"
   ]
  },
  {
   "cell_type": "code",
   "execution_count": 4,
   "metadata": {},
   "outputs": [
    {
     "name": "stdout",
     "output_type": "stream",
     "text": [
      "python 3.7.1\n",
      "numpy 1.15.4\n",
      "pandas 0.23.4\n",
      "matplotlib 3.0.2\n",
      "scipy 1.1.0\n",
      "math True\n"
     ]
    }
   ],
   "source": [
    "from platform import python_version\n",
    "print(\"python\", python_version())\n",
    "\n",
    "import numpy as np\n",
    "print(\"numpy\", np.version.version)\n",
    "\n",
    "import pandas \n",
    "print(\"pandas\", pandas.__version__)\n",
    "\n",
    "import matplotlib\n",
    "print(\"matplotlib\", matplotlib.__version__)\n",
    "\n",
    "import scipy.stats\n",
    "print(\"scipy\", scipy.version.version)\n",
    "\n",
    "import math \n",
    "print(\"math\", hasattr(math, \"isfinite\"))\n",
    "\n",
    "%matplotlib inline\n",
    "import matplotlib.pyplot as plt"
   ]
  },
  {
   "cell_type": "markdown",
   "metadata": {},
   "source": [
    "## Question 1 HMM\n",
    "\n",
    "In Assignment 2, we introduced a simple HMM to model secondary structure in proteins with states $H,S,T$ and symbols $B,I,N$. Refer to that assignment for more detail about the model and its meaning. It has :\n",
    "\n",
    "transition probabilities __a__ = \n",
    "\n",
    "$$\n",
    "\\begin{pmatrix}\n",
    " & H & S & T\\\\\n",
    "H & 0.95 & 0.01 & 0.04\\\\\n",
    "S & 0.0333 & 0.9167 & 0.05\\\\\n",
    "T & 0.05 & 0.05 & 0.90\n",
    "\\end{pmatrix}\n",
    "$$\n",
    "\n",
    "and emission probabilites __e__ =\n",
    "\n",
    "$$\n",
    "\\begin{pmatrix}\n",
    " & B & I & N\\\\\n",
    "H & 0.35 & 0.55 & 0.10 \\\\\n",
    "S & 0.55 & 0.15 & 0.30 \\\\\n",
    "T & 0.10 & 0.10 & 0.80\n",
    "\\end{pmatrix}\n",
    "$$\n"
   ]
  },
  {
   "cell_type": "markdown",
   "metadata": {},
   "source": [
    "### i.  Simulate a HMM (2 points)\n",
    "\n",
    "Write a function `simulate_HMM` to simulate a state and symbol sequence pair ($\\pi$,$x$) of length 100. Print $\\pi$ and $x$ to output. Make sure that $\\pi$ has at least two runs of $H$s (you can set the random seed using `numpy.random.seed()` until you are happy with your sequence). You will use this simulated pair for the remainder of this question."
   ]
  },
  {
   "cell_type": "code",
   "execution_count": 5,
   "metadata": {
    "deletable": false,
    "nbgrader": {
     "checksum": "a84f574c8d72eb815f661f4d599550ef",
     "grade": true,
     "grade_id": "simulate",
     "locked": false,
     "points": 1.0,
     "schema_version": 1.0,
     "solution": true
    }
   },
   "outputs": [],
   "source": [
    "np.random.seed(1234)\n",
    "def simulate_HMM(a, e, n, s):\n",
    "    emission_list = [] # emission list, ie; BINNINBINBINBNI...\n",
    "    transition_list = [] # transition list, ie; SHSTHSHTSHTHSTH...\n",
    "    curr_pos = s # starting for transitions\n",
    "    for i in range(n):\n",
    "        em = e[:][curr_pos:curr_pos] # index emission matrix with current transition symbol\n",
    "        trans = a[:][curr_pos:curr_pos] # index transition matrix with current symbom\n",
    "        emission_state = np.random.choice(['B','I','N'], p=em.values[0]) # generate random weighted emission\n",
    "        transition_state = np.random.choice(['H','S','T'], p=trans.values[0]) # generate random weighted transition\n",
    "        emission_list.append(emission_state) # add emission to emission list\n",
    "        transition_list.append(curr_pos) # add transtion to transition list\n",
    "        curr_pos = transition_state # set current position to new transition state\n",
    "    return \"\".join(transition_list), \"\".join(emission_list) # return emissions and transitions as strings"
   ]
  },
  {
   "cell_type": "code",
   "execution_count": 6,
   "metadata": {
    "deletable": false,
    "nbgrader": {
     "checksum": "53c58cbb6138d1ef61c6f07116f45537",
     "grade": true,
     "grade_id": "simulate-test",
     "locked": false,
     "points": 1.0,
     "schema_version": 1.0,
     "solution": true
    }
   },
   "outputs": [
    {
     "name": "stdout",
     "output_type": "stream",
     "text": [
      "('HHHHHHHHHHHHHHHHHHHHHHHHHHHHHTTTTSTTTTTTTTTTTTTTTTTTTTTTTTTTTTTTTSSSSSSSSSSSSSSSSSSSSTTTTTTTTHHHHHHH', 'BIIBNIIIIIIBNIBIIIBIBBIBBBIIINNNNBINNNNBNNNNNINNNBNNNBINNNNNNNNNBBNBNBBNBNINBNNIBNNBNNNNNNNNNIIIBBII')\n"
     ]
    }
   ],
   "source": [
    "np.random.seed(1234)\n",
    "\n",
    "e_frame = np.reshape((0.35,0.55,0.10,0.55,0.15,0.30,0.10,0.10,0.80), (3, 3)) # emission matrix\n",
    "emission = pandas.DataFrame(e_frame, index=['H','S','T'], columns=['B','I','N']) # index emission matrix\n",
    "\n",
    "t_frame = np.reshape((0.95,0.01,0.04,0.0333,0.9167,0.05,0.05,0.05,0.90), (3, 3)) # transition matrix\n",
    "transition = pandas.DataFrame(t_frame, index=['H','S','T'], columns=['H','S','T']) # index transtion matrix\n",
    "\n",
    "sequences = simulate_HMM(transition, emission, 100, \"H\") # generate sequences\n",
    "print(sequences)"
   ]
  },
  {
   "cell_type": "markdown",
   "metadata": {},
   "source": [
    "### ii. The forward algorithm (2 points)\n",
    "\n",
    "Write a function to implement the forward algorithm to return a forward table matrix $F$ and the probability $P(x)$ of the observing sequence $x$. You need to print $P(x)$ and make explicit if it is in a log space. $x$ is simulated by Question i. For forward algorithm examples, see Lecture 16 & Tutorial 6. \n"
   ]
  },
  {
   "cell_type": "code",
   "execution_count": 7,
   "metadata": {
    "deletable": false,
    "nbgrader": {
     "checksum": "c6e0189077f7ea9e62bceeb633ce99bf",
     "grade": true,
     "grade_id": "forward",
     "locked": false,
     "points": 1.0,
     "schema_version": 1.0,
     "solution": true
    }
   },
   "outputs": [
    {
     "name": "stdout",
     "output_type": "stream",
     "text": [
      "Probability in log space is: -91.23449679545665\n"
     ]
    }
   ],
   "source": [
    "np.random.seed(21)\n",
    "\n",
    "def forward_matrix(a, e):\n",
    "    seq = sequences[1] # get emission sequence\n",
    "    mat = np.zeros([3, len(seq)],dtype = float) # generate matrix for length of sequence list\n",
    "    mat = pandas.DataFrame(mat, index = ['H','S','T']) # index matrix\n",
    "    a, e = np.log(a), np.log(e) # log transition and emission matrixs\n",
    "    for x in range(len(seq)): # run for length of sequence\n",
    "        if x == 0: # initial condition of forward matrix\n",
    "            mat[0][\"H\"] = np.log(1/3) + e[seq[x]][\"H\"] # 1/3 probability + emission probability with given transition\n",
    "            mat[0][\"S\"] = np.log(1/3) + e[seq[x]][\"S\"]\n",
    "            mat[0][\"T\"] = np.log(1/3) + e[seq[x]][\"T\"]\n",
    "        else:\n",
    "            # perform forward algorithm until we reach the end of the sequence\n",
    "            mat[x][\"H\"] = e[seq[x]][\"H\"] + np.log(np.exp(mat[x-1][\"H\"] + a[\"H\"][\"H\"]) + np.exp(mat[x-1][\"S\"] + a[\"H\"][\"S\"]) + np.exp(mat[x-1][\"T\"] + a[\"H\"][\"T\"]))\n",
    "            mat[x][\"S\"] = e[seq[x]][\"S\"] + np.log(np.exp(mat[x-1][\"H\"] + a[\"S\"][\"H\"]) + np.exp(mat[x-1][\"S\"] + a[\"S\"][\"S\"]) + np.exp(mat[x-1][\"T\"] + a[\"S\"][\"T\"]))\n",
    "            mat[x][\"T\"] = e[seq[x]][\"T\"] + np.log(np.exp(mat[x-1][\"H\"] + a[\"T\"][\"H\"]) + np.exp(mat[x-1][\"S\"] + a[\"T\"][\"S\"]) + np.exp(mat[x-1][\"T\"] + a[\"T\"][\"T\"]))\n",
    "    n = len(seq) -1 # get values as end of new formward matrix\n",
    "    val = np.log(np.exp(mat[n][\"H\"]) + np.exp(mat[n][\"S\"]) + np.exp(mat[n][\"T\"])) # calculate P(x) for forward matrix       \n",
    "    return mat, val\n",
    "\n",
    "vals = forward_matrix(transition, emission)\n",
    "\n",
    "print(\"Probability in log space is:\", vals[1])"
   ]
  },
  {
   "cell_type": "code",
   "execution_count": null,
   "metadata": {
    "deletable": false,
    "nbgrader": {
     "checksum": "ef365a88e7795ead954c4c30c5bd0daf",
     "grade": true,
     "grade_id": "f-test",
     "locked": false,
     "points": 1.0,
     "schema_version": 1.0,
     "solution": true
    }
   },
   "outputs": [],
   "source": [
    ""
   ]
  },
  {
   "cell_type": "markdown",
   "metadata": {},
   "source": [
    "### iii. The backward algorithm (2 points)\n",
    "\n",
    "Write a function to implement the backward algorithm to return a matrix $B$ and the probability $P(x)$ of the observing sequence $x$. You need to print $P(x)$ and make explicit if it is in a log space. $x$ is simulated by Question i. For a backwards algorithm example, see Tutorial 6. \n"
   ]
  },
  {
   "cell_type": "code",
   "execution_count": 8,
   "metadata": {
    "deletable": false,
    "nbgrader": {
     "checksum": "f0f8bdb4ec3bcba31d78b69bc4341bc4",
     "grade": true,
     "grade_id": "backward",
     "locked": false,
     "points": 1.0,
     "schema_version": 1.0,
     "solution": true
    }
   },
   "outputs": [
    {
     "name": "stdout",
     "output_type": "stream",
     "text": [
      "Probability in log space is: -91.23449679545655\n"
     ]
    }
   ],
   "source": [
    "def backward_matrix(a, e):\n",
    "    pandas.options.mode.chained_assignment = None\n",
    "    seq = sequences[1] # get emission sequence\n",
    "    n = len(seq)\n",
    "    mat = np.zeros([3, len(seq)],dtype = float) # generate matrix for length of sequence list\n",
    "    mat = pandas.DataFrame(mat, index = ['H','S','T']) # index matrix\n",
    "    a, e = np.log(a), np.log(e) # log transition and emission matrixs\n",
    "    for x in range(len(seq), 0, -1): # go from end of sequence to start\n",
    "        if x == n: # initial condition for backward matrix\n",
    "            mat[len(seq)] = 0 # end of matrix set to 0\n",
    "        else:\n",
    "            # perform backward algorithm on matrix from back to front\n",
    "            e_val = seq[x] # get value at point in sequence\n",
    "            mat[x][\"H\"] = np.log(np.exp(a[\"H\"][\"H\"] + e[e_val][\"H\"] + mat[x+1][\"H\"]) + np.exp(a[\"S\"][\"H\"] + e[e_val][\"S\"] + mat[x+1][\"S\"]) + np.exp(a[\"T\"][\"H\"] + e[e_val][\"T\"] + mat[x+1][\"T\"]))\n",
    "            mat[x][\"S\"] = np.log(np.exp(a[\"H\"][\"S\"] + e[e_val][\"H\"] + mat[x+1][\"H\"]) + np.exp(a[\"S\"][\"S\"] + e[e_val][\"S\"] + mat[x+1][\"S\"]) + np.exp(a[\"T\"][\"S\"] + e[e_val][\"T\"] + mat[x+1][\"T\"]))\n",
    "            mat[x][\"T\"] = np.log(np.exp(a[\"H\"][\"T\"] + e[e_val][\"H\"] + mat[x+1][\"H\"]) + np.exp(a[\"S\"][\"T\"] + e[e_val][\"S\"] + mat[x+1][\"S\"]) + np.exp(a[\"T\"][\"T\"] + e[e_val][\"T\"] + mat[x+1][\"T\"]))\n",
    "    e_val = seq[0] # get value at start of sequence\n",
    "    prob = np.exp(e[e_val][\"H\"] + mat[1][\"H\"] + np.log(1/3)) + np.exp(e[e_val][\"S\"] + mat[1][\"S\"] + np.log(1/3)) + np.exp(e[e_val][\"T\"] + mat[1][\"T\"] + np.log(1/3)) # calucate \"top left\" value of matrix\n",
    "    mat = mat.drop(columns = 0) # delete first column\n",
    "    mat.columns = range(0, n) # re-index columns\n",
    "    return mat, np.log(prob)\n",
    "vals = backward_matrix(transition, emission)\n",
    "print(\"Probability in log space is:\", vals[1])"
   ]
  },
  {
   "cell_type": "code",
   "execution_count": null,
   "metadata": {
    "deletable": false,
    "nbgrader": {
     "checksum": "67743b4301d816dd5712169c07ca00bd",
     "grade": true,
     "grade_id": "b-test",
     "locked": false,
     "points": 1.0,
     "schema_version": 1.0,
     "solution": true
    }
   },
   "outputs": [],
   "source": [
    ""
   ]
  },
  {
   "cell_type": "markdown",
   "metadata": {},
   "source": [
    "### iv. Test (1 point)\n",
    "\n",
    "Calculate the matrix __P__ where the ($k,i$)th entry of __P__ is $P(k, i) = Pr(\\pi_i = k|x)$, the posterior probability of being in state $k$ at step $i$. Notice that $P(k, i)$ is not a log probability in the below equation. $F(k, i)$ and $B(k, i)$ are from the anwsers of above questions.  \n",
    "\n",
    "$P(k,i) = Pr(\\pi_i = k | x) = \\frac{F_i(k)B_i(k)}{P(x)}$\n",
    "\n",
    "Print the matrix __P__, and show that your method is correct by checking the column sums of __P__ are all 1.\n"
   ]
  },
  {
   "cell_type": "code",
   "execution_count": 9,
   "metadata": {
    "deletable": false,
    "nbgrader": {
     "checksum": "d575107565ff62c9e9c9eaac34bae5d1",
     "grade": true,
     "grade_id": "P",
     "locked": false,
     "points": 1.0,
     "schema_version": 1.0,
     "solution": true
    }
   },
   "outputs": [
    {
     "name": "stdout",
     "output_type": "stream",
     "text": [
      "Sum of columns from multiplied and divided matrix summed 100.0\n"
     ]
    }
   ],
   "source": [
    "# multply values of the two matrixs and divide by P(x)\n",
    "mult_mat = (np.exp(forward_matrix(transition, emission)[0]) * np.exp(backward_matrix(transition, emission)[0])) / np.exp(backward_matrix(transition, emission)[1])\n",
    "#take the sum of the sums of all the columns, this is 100 as the sequence length is 100\n",
    "print(\"Sum of columns from multiplied and divided matrix summed\", round(np.sum(mult_mat.sum(axis=0)), 8))"
   ]
  },
  {
   "cell_type": "markdown",
   "metadata": {},
   "source": [
    "### v. Plot (1 point)\n",
    "\n",
    "Make a plot of $Pr(\\pi_i = H|x)$ against the index $i$ (that is, plot $i$ on the horizontal axis and $Pr(\\pi_i = H|x)$ on the vertical axis). To embed the plot in your report, include in the first cell of your notebook the command `%matplotlib inline`"
   ]
  },
  {
   "cell_type": "code",
   "execution_count": 10,
   "metadata": {
    "deletable": false,
    "nbgrader": {
     "checksum": "d302294fc4e8538f13853d7f0d3a2f48",
     "grade": true,
     "grade_id": "hmm-plot",
     "locked": false,
     "points": 1.0,
     "schema_version": 1.0,
     "solution": true
    }
   },
   "outputs": [
    {
     "name": "stdout",
     "output_type": "stream",
     "text": [
      "HHHHHHHHHHHHHHHHHHHHHHHHHHHHHTTTTSTTTTTTTTTTTTTTTTTTTTTTTTTTTTTTTSSSSSSSSSSSSSSSSSSSSTTTTTTTTHHHHHHH\n"
     ]
    },
    {
     "data": {
      "image/png": "[encoded data removed]",
      "text/plain": [
       "<Figure size 432x288 with 1 Axes>"
      ]
     },
     "metadata": {
      "needs_background": "light"
     },
     "output_type": "display_data"
    }
   ],
   "source": [
    "plt.plot(range(0, len(sequences[1])), mult_mat.iloc[0]) # plot our multiplied matrixs together\n",
    "print(sequences[0])"
   ]
  },
  {
   "cell_type": "markdown",
   "metadata": {},
   "source": [
    "### vi. Report (1 point)\n",
    "\n",
    "By comparing your plot to the true state sequence $\\pi$, discuss whether or not you think you could accurately find the $\\alpha$-helices in a given protein sequence using this model."
   ]
  },
  {
   "cell_type": "markdown",
   "metadata": {
    "deletable": false,
    "nbgrader": {
     "checksum": "4f1477aaab339d9087387e83083c72cb",
     "grade": true,
     "grade_id": "hmm-report",
     "locked": false,
     "points": 1.0,
     "schema_version": 1.0,
     "solution": true
    }
   },
   "source": [
    "Looking at our true sequence and our graph, it seems that we can fairly accurately predict where $\\alpha$-helices will occur in the sequence, with the graph rising at about the same positions as where we see H's in our sequence and lowering where we do not"
   ]
  },
  {
   "cell_type": "markdown",
   "metadata": {},
   "source": [
    "## Question 2 MCMC\n",
    "\n",
    "### i. Write a method (1 points)\n",
    "\n",
    "Implement an MCMC algorithm to sample the posterior distribution of the effective population size $N_e$ given the 10-taxa tree simulated by _Simulation.py_ (available on Canvas). The proposal kernel should be a uniform random walk on the parameter $N_e$, so that $\\delta \\sim Unif(-10, 10)$ and $N_e' = N_e + \\delta$. The lower boundary of zero can be treated by reflection or rejection. The target distribution is the coalescent likelihood:\n",
    "\n",
    "$$ p(T|N_e) = \\prod^n_{k=2}\\Big( \\frac{1}{N_e} exp\\Big( − \\frac{k(k−1)t_k}{2N_e} \\Big) \\Big) $$\n",
    "\n",
    "where $t_k$ is the time duration that the tree $T$ has $k$ lineages.\n",
    "\n",
    "\n",
    "You may find that you need to calculation this target distribution in log space to avoid numerical underflow:\n",
    "\n",
    "\n",
    "$$ ln(p(T|N_e)) = \\sum^n_{k=2}\\Big( - ln(N_e) − \\frac{k(k−1)t_k}{2N_e} \\Big) $$\n",
    "\n",
    "\n",
    "The the acceptance probability will be:\n",
    "􏰑\n",
    "\n",
    "$ \\alpha = min 􏰉( 1, exp (p2 - p1) ) $, where\n",
    "proposal state $p2 = ln (p(N_e'|T))$ and \n",
    "current state $p1 = ln (p(N_e|T))$\n",
    "\n",
    "\n",
    "Notice above I gave you the coalescent likelihood, $p(T|N_e)$, not the posterior $p(N_e|T)$, so you need to also define a prior $p(N_e)$ to compute the posterior (up to a constant). If you only use the coalescent likelihood as the target distribution you will be effectively using an (improper) uniform prior. Something like a diffuse log-normal makes a lot more sense.\n",
    "\n",
    "You may test your method by printing out the \"important\" parameters in each state with a short-length run.\n",
    "\n",
    "If the above equations are not displayed properly, you can see them from the attached png files.\n"
   ]
  },
  {
   "cell_type": "code",
   "execution_count": 11,
   "metadata": {},
   "outputs": [
    {
     "name": "stdout",
     "output_type": "stream",
     "text": [
      "simulate a coalescent tree with 10 tips and Ne =  100\n"
     ]
    },
    {
     "data": {
      "image/png": "[encoded data removed]",
      "text/plain": [
       "<Figure size 432x288 with 1 Axes>"
      ]
     },
     "metadata": {
      "needs_background": "light"
     },
     "output_type": "display_data"
    },
    {
     "name": "stdout",
     "output_type": "stream",
     "text": [
      "the plotted tree height is 100.440\n"
     ]
    }
   ],
   "source": [
    "%matplotlib inline\n",
    "# Note: the given Python classes are imported successfully only when the plotted tree is shown below, \n",
    "# otherwise please run this cell again.   \n",
    "%run Simulation.py\n",
    "\n",
    "n,Ne=10,100\n",
    "print(\"simulate a coalescent tree with\", n, \"tips and Ne = \", Ne)\n",
    "\n",
    "np.random.seed(1234)\n",
    "tree = coalescent(n,Ne)\n",
    "plot_tree(tree)\n",
    "print(\"the plotted tree height is {:.3f}\".format(tree.get_root().get_height()))"
   ]
  },
  {
   "cell_type": "code",
   "execution_count": 12,
   "metadata": {
    "deletable": false,
    "nbgrader": {
     "checksum": "31aadf5aae8e6904f1826750a73aa0dc",
     "grade": true,
     "grade_id": "MCMC",
     "locked": false,
     "points": 1.0,
     "schema_version": 1.0,
     "solution": true
    }
   },
   "outputs": [],
   "source": [
    "def tk_visit(node, time_list): # function to traverse our tree\n",
    "    if(node.get_height() != 0):\n",
    "        time_list.append(node.get_height()) # get height of child we're visitings\n",
    "    for c in range(len(node.get_children())): # visit all the children of the children recursively\n",
    "        tk_visit(node.get_children()[c], time_list)\n",
    "    return time_list\n",
    "\n",
    "heights = tk_visit(tree.get_root(), [])\n",
    "heights.sort(reverse = True) # sort heights from tree traversal\n",
    "tk = []\n",
    "for i in range(len(heights) - 1):\n",
    "    tk.append(heights[i] - heights[i + 1]) # get lineage times from preceeding nodes\n",
    "tk.append(heights[-1]) # get last node height"
   ]
  },
  {
   "cell_type": "code",
   "execution_count": 13,
   "metadata": {},
   "outputs": [],
   "source": [
    "def l_hood(n, tk, Ne):\n",
    "    sums = []\n",
    "    for k in range(2, n + 1): # k starts at 2 \n",
    "        part1 = -np.log(Ne) # get part 1 of equation\n",
    "        part2 = -(k*(k - 1) * tk[k - 2]) / (2 * Ne) # get part 2 of equation\n",
    "        total = part1 + part2 # add together \n",
    "        sums.append(total)\n",
    "    return np.sum(sums) # return log probability of target distribution liklihood\n",
    "\n",
    "\n",
    "def l_norm(x, m, s): #function for log normal distribution \n",
    "    l1 = (x * s * np.sqrt(2*np.pi)) # part 1 of denomenator \n",
    "    l2 = np.exp(- (np.log(x) - m) ** 2 / (2*s**2))# part 2 of denomenator \n",
    "    return 1 /  l1 * l2 # final number\n",
    "\n",
    "\n",
    "def MCMC(Ne, mean, sd, trials):\n",
    "    posts = [] # posterior distribution data list\n",
    "\n",
    "    for i in range(trials): # run for specified amount of trials\n",
    "        Ne_prime = Ne + np.random.uniform(-10, 10) # generate Ne` with random uniform sample\n",
    "        p1 = l_hood(n, tk, Ne) + np.log(l_norm(Ne, mean, sd)) # generate p1\n",
    "        p2 = l_hood(n, tk, Ne_prime) + np.log(l_norm(Ne_prime, mean, sd)) # generate p2\n",
    "        if np.random.uniform(0,1) < min(1, np.exp(p2-p1)): # if min of 1 and exp(p2-p1) < a random number\n",
    "            Ne = Ne_prime # we take Ne` as our new Ne\n",
    "        posts.append(Ne) # add Ne to our data\n",
    "        \n",
    "    return posts"
   ]
  },
  {
   "cell_type": "markdown",
   "metadata": {},
   "source": [
    "### ii. Plot and report (3 points)\n",
    "\n",
    "Give a starting value $N_e = 100$, and run a MCMC with the chain of length 10,000 steps:\n",
    "\n",
    "1. Plot the posterior distribution of $N_e$ simpled from your MCMC run. \n",
    "\n",
    "2. Plot the prior distribution, and report what prior you used.\n",
    "\n",
    "3. Compare 1 and 2 to comment on how you would get a better estimate of the effective population size."
   ]
  },
  {
   "cell_type": "code",
   "execution_count": 14,
   "metadata": {
    "deletable": false,
    "nbgrader": {
     "checksum": "7c6bd060b6f79fe5b38d75a6dd52f42f",
     "grade": true,
     "grade_id": "posterior",
     "locked": false,
     "points": 1.0,
     "schema_version": 1.0,
     "solution": true
    }
   },
   "outputs": [
    {
     "name": "stdout",
     "output_type": "stream",
     "text": [
      "Posterior distribution\n"
     ]
    },
    {
     "data": {
      "image/png": "[encoded data removed]",
      "text/plain": [
       "<Figure size 432x288 with 1 Axes>"
      ]
     },
     "metadata": {
      "needs_background": "light"
     },
     "output_type": "display_data"
    }
   ],
   "source": [
    "print(\"Posterior distribution\")\n",
    "mean, sd = np.log(75), 0.5 # prior estimations\n",
    "d = MCMC(Ne, mean, sd, 10000) # simulate 10000 trials \n",
    "plt.hist(d, bins = 100, density = True);"
   ]
  },
  {
   "cell_type": "code",
   "execution_count": 15,
   "metadata": {},
   "outputs": [
    {
     "name": "stdout",
     "output_type": "stream",
     "text": [
      "Prior distribution\n"
     ]
    },
    {
     "data": {
      "image/png": "[encoded data removed]",
      "text/plain": [
       "<Figure size 432x288 with 1 Axes>"
      ]
     },
     "metadata": {
      "needs_background": "light"
     },
     "output_type": "display_data"
    }
   ],
   "source": [
    "# simulate 10000 samples from a log normal distribution with our prior values\n",
    "plt.hist(np.random.lognormal(mean, sd, 10000), bins = 1000, density = True)\n",
    "ax = plt.gca()\n",
    "print(\"Prior distribution\")\n",
    "ax.set_xlim(0,180);"
   ]
  },
  {
   "cell_type": "markdown",
   "metadata": {
    "deletable": false,
    "nbgrader": {
     "checksum": "ccd355dd3e8dc34cc2bf8cce3a184de9",
     "grade": true,
     "grade_id": "prior",
     "locked": false,
     "points": 1.0,
     "schema_version": 1.0,
     "solution": true
    }
   },
   "source": [
    "Looking at our plots we could improve our estimate of the population size by getting more data on what is being sampled so we can better estimate our population mean and standard distribution. The estimates I chose of 75 and 0.5 were based on what we knew (we knew Ne = 100 but would be cheating a bit if we used that) and the standard distribution was a guess that was changed after running the MCMC a few times and finding something similar. If we had some more \"biological\" information about the tree we were estimating our initial estimates might be better to, I assume the population sizes and standard distributions between elephants and bacterium for example differ quite significantly, this information wasn't known to us."
   ]
  },
  {
   "cell_type": "markdown",
   "metadata": {},
   "source": [
    "#"
   ]
  },
  {
   "cell_type": "markdown",
   "metadata": {
    "deletable": false,
    "nbgrader": {
     "checksum": "7c7e35d3c1d2b5d9a8dde127fee8e5c8",
     "grade": true,
     "grade_id": "comment",
     "locked": false,
     "points": 1.0,
     "schema_version": 1.0,
     "solution": true
    }
   },
   "source": [
    "#"
   ]
  }
 ],
 "metadata": {
  "kernelspec": {
   "display_name": "Python 3",
   "language": "python",
   "name": "python3"
  },
  "language_info": {
   "codemirror_mode": {
    "name": "ipython",
    "version": 3.0
   },
   "file_extension": ".py",
   "mimetype": "text/x-python",
   "name": "python",
   "nbconvert_exporter": "python",
   "pygments_lexer": "ipython3",
   "version": "3.7.1"
  }
 },
 "nbformat": 4,
 "nbformat_minor": 0
}